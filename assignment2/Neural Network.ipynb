{
 "cells": [
  {
   "cell_type": "markdown",
   "metadata": {},
   "source": [
    "# Задание 2.1 - Нейронные сети\n",
    "\n",
    "В этом задании вы реализуете и натренируете настоящую нейроную сеть своими руками!\n",
    "\n",
    "В некотором смысле это будет расширением прошлого задания - нам нужно просто составить несколько линейных классификаторов вместе!\n",
    "\n",
    "<img src=\"https://i.redd.it/n9fgba8b0qr01.png\" alt=\"Stack_more_layers\" width=\"400px\"/>"
   ]
  },
  {
   "cell_type": "code",
   "execution_count": 1,
   "metadata": {},
   "outputs": [],
   "source": [
    "import numpy as np\n",
    "import matplotlib.pyplot as plt\n",
    "\n",
    "%matplotlib inline\n",
    "\n",
    "%load_ext autoreload\n",
    "%autoreload 2"
   ]
  },
  {
   "cell_type": "code",
   "execution_count": 2,
   "metadata": {},
   "outputs": [],
   "source": [
    "from dataset import load_svhn, random_split_train_val\n",
    "from gradient_check import check_layer_gradient, check_layer_param_gradient, check_model_gradient\n",
    "from layers import FullyConnectedLayer, ReLULayer\n",
    "from model import TwoLayerNet\n",
    "from trainer import Trainer, Dataset\n",
    "from optim import SGD, MomentumSGD\n",
    "from metrics import multiclass_accuracy"
   ]
  },
  {
   "cell_type": "markdown",
   "metadata": {},
   "source": [
    "# Загружаем данные\n",
    "\n",
    "И разделяем их на training и validation."
   ]
  },
  {
   "cell_type": "code",
   "execution_count": 3,
   "metadata": {},
   "outputs": [],
   "source": [
    "def prepare_for_neural_network(train_X, test_X):\n",
    "    train_flat = train_X.reshape(train_X.shape[0], -1).astype(np.float) / 255.0\n",
    "    test_flat = test_X.reshape(test_X.shape[0], -1).astype(np.float) / 255.0\n",
    "    \n",
    "    # Subtract mean\n",
    "    mean_image = np.mean(train_flat, axis = 0)\n",
    "    train_flat -= mean_image\n",
    "    test_flat -= mean_image\n",
    "    \n",
    "    return train_flat, test_flat\n",
    "    \n",
    "train_X, train_y, test_X, test_y = load_svhn(\"data\", max_train=10000, max_test=1000)    \n",
    "train_X, test_X = prepare_for_neural_network(train_X, test_X)\n",
    "# Split train into train and val\n",
    "train_X, train_y, val_X, val_y = random_split_train_val(train_X, train_y, num_val = 1000)"
   ]
  },
  {
   "cell_type": "markdown",
   "metadata": {},
   "source": [
    "# Как всегда, начинаем с кирпичиков\n",
    "\n",
    "Мы будем реализовывать необходимые нам слои по очереди. Каждый слой должен реализовать:\n",
    "- прямой проход (forward pass), который генерирует выход слоя по входу и запоминает необходимые данные\n",
    "- обратный проход (backward pass), который получает градиент по выходу слоя и вычисляет градиент по входу и по параметрам\n",
    "\n",
    "Начнем с ReLU, у которого параметров нет."
   ]
  },
  {
   "cell_type": "code",
   "execution_count": null,
   "metadata": {
    "scrolled": false
   },
   "outputs": [],
   "source": [
    "# TODO: Implement ReLULayer layer in layers.py\n",
    "# Note: you'll need to copy implementation of the gradient_check function from the previous assignment\n",
    "\n",
    "X = np.array([[1,-2,3],\n",
    "              [-1, 2, 0.1],\n",
    "              [1, -2, 3]])\n",
    "\n",
    "assert check_layer_gradient(ReLULayer(), X)"
   ]
  },
  {
   "cell_type": "markdown",
   "metadata": {},
   "source": [
    "А теперь реализуем полносвязный слой (fully connected layer), у которого будет два массива параметров: W (weights) и B (bias).\n",
    "\n",
    "Все параметры наши слои будут использовать для параметров специальный класс `Param`, в котором будут храниться значения параметров и градиенты этих параметров, вычисляемые во время обратного прохода.\n",
    "\n",
    "Это даст возможность аккумулировать (суммировать) градиенты из разных частей функции потерь, например, из cross-entropy loss и regularization loss."
   ]
  },
  {
   "cell_type": "code",
   "execution_count": null,
   "metadata": {},
   "outputs": [],
   "source": [
    "# TODO: Implement FullyConnected layer forward and backward methods\n",
    "assert check_layer_gradient(FullyConnectedLayer(3, 4), X)\n",
    "# TODO: Implement storing gradients for W and B\n",
    "assert check_layer_param_gradient(FullyConnectedLayer(3, 4), X, 'W')\n",
    "assert check_layer_param_gradient(FullyConnectedLayer(3, 4), X, 'B')"
   ]
  },
  {
   "cell_type": "markdown",
   "metadata": {},
   "source": [
    "## Создаем нейронную сеть\n",
    "\n",
    "Теперь мы реализуем простейшую нейронную сеть с двумя полносвязным слоями и нелинейностью ReLU. Реализуйте функцию `compute_loss_and_gradients`, она должна запустить прямой и обратный проход через оба слоя для вычисления градиентов.\n",
    "\n",
    "Не забудьте реализовать очистку градиентов в начале функции."
   ]
  },
  {
   "cell_type": "code",
   "execution_count": 7,
   "metadata": {},
   "outputs": [
    {
     "name": "stdout",
     "output_type": "stream",
     "text": [
      "Checking gradient for W1\n",
      "Gradient check passed!\n",
      "Checking gradient for B1\n",
      "Gradient check passed!\n",
      "Checking gradient for W2\n",
      "Gradient check passed!\n",
      "Checking gradient for B2\n",
      "Gradient check passed!\n"
     ]
    },
    {
     "data": {
      "text/plain": [
       "True"
      ]
     },
     "execution_count": 7,
     "metadata": {},
     "output_type": "execute_result"
    }
   ],
   "source": [
    "# TODO: In model.py, implement compute_loss_and_gradients function\n",
    "model = TwoLayerNet(n_input = train_X.shape[1], n_output = 10, hidden_layer_size = 3, reg = 0)\n",
    "loss = model.compute_loss_and_gradients(train_X[:2], train_y[:2])\n",
    "\n",
    "# TODO Now implement backward pass and aggregate all of the params\n",
    "check_model_gradient(model, train_X[:2], train_y[:2])"
   ]
  },
  {
   "cell_type": "markdown",
   "metadata": {},
   "source": [
    "Теперь добавьте к модели регуляризацию - она должна прибавляться к loss и делать свой вклад в градиенты."
   ]
  },
  {
   "cell_type": "code",
   "execution_count": null,
   "metadata": {},
   "outputs": [],
   "source": [
    "# TODO Now implement l2 regularization in the forward and backward pass\n",
    "model_with_reg = TwoLayerNet(n_input = train_X.shape[1], n_output = 10, hidden_layer_size = 3, reg = 1e1)\n",
    "loss_with_reg = model_with_reg.compute_loss_and_gradients(train_X[:5], train_y[:5])\n",
    "assert loss_with_reg > loss and not np.isclose(loss_with_reg, loss), \\\n",
    "    \"Loss with regularization (%2.4f) should be higher than without it (%2.4f)!\" % (loss, loss_with_reg)\n",
    "\n",
    "check_model_gradient(model_with_reg, train_X[:5], train_y[:5])"
   ]
  },
  {
   "cell_type": "markdown",
   "metadata": {},
   "source": [
    "Также реализуем функцию предсказания (вычисления значения) модели на новых данных.\n",
    "\n",
    "Какое значение точности мы ожидаем увидеть до начала тренировки?"
   ]
  },
  {
   "cell_type": "code",
   "execution_count": null,
   "metadata": {},
   "outputs": [],
   "source": [
    "# Finally, implement predict function!\n",
    "\n",
    "# TODO: Implement predict function\n",
    "# What would be the value we expect?\n",
    "multiclass_accuracy(model_with_reg.predict(train_X[:30]), train_y[:30]) "
   ]
  },
  {
   "cell_type": "markdown",
   "metadata": {},
   "source": [
    "# Допишем код для процесса тренировки\n",
    "\n",
    "Если все реализовано корректно, значение функции ошибки должно уменьшаться с каждой эпохой, пусть и медленно. Не беспокойтесь пока про validation accuracy."
   ]
  },
  {
   "cell_type": "code",
   "execution_count": 8,
   "metadata": {},
   "outputs": [
    {
     "name": "stdout",
     "output_type": "stream",
     "text": [
      "Loss: 38.284163, Train accuracy: 0.361778, val accuracy: 0.357000\n",
      "Loss: 24.871130, Train accuracy: 0.469444, val accuracy: 0.476000\n",
      "Loss: 29.152435, Train accuracy: 0.617222, val accuracy: 0.623000\n",
      "Loss: 9.533628, Train accuracy: 0.626333, val accuracy: 0.632000\n",
      "Loss: 17.923604, Train accuracy: 0.687333, val accuracy: 0.663000\n",
      "Loss: 15.231884, Train accuracy: 0.736556, val accuracy: 0.694000\n",
      "Loss: 20.985215, Train accuracy: 0.688667, val accuracy: 0.651000\n"
     ]
    },
    {
     "ename": "KeyboardInterrupt",
     "evalue": "",
     "output_type": "error",
     "traceback": [
      "\u001b[1;31m---------------------------------------------------------------------------\u001b[0m",
      "\u001b[1;31mKeyboardInterrupt\u001b[0m                         Traceback (most recent call last)",
      "\u001b[1;32m<ipython-input-8-a20c912ebbb5>\u001b[0m in \u001b[0;36m<module>\u001b[1;34m\u001b[0m\n\u001b[0;32m      5\u001b[0m \u001b[1;31m# TODO Implement missing pieces in Trainer.fit function\u001b[0m\u001b[1;33m\u001b[0m\u001b[1;33m\u001b[0m\u001b[1;33m\u001b[0m\u001b[0m\n\u001b[0;32m      6\u001b[0m \u001b[1;31m# You should expect loss to go down every epoch, even if it's slow\u001b[0m\u001b[1;33m\u001b[0m\u001b[1;33m\u001b[0m\u001b[1;33m\u001b[0m\u001b[0m\n\u001b[1;32m----> 7\u001b[1;33m \u001b[0mloss_history\u001b[0m\u001b[1;33m,\u001b[0m \u001b[0mtrain_history\u001b[0m\u001b[1;33m,\u001b[0m \u001b[0mval_history\u001b[0m \u001b[1;33m=\u001b[0m \u001b[0mtrainer\u001b[0m\u001b[1;33m.\u001b[0m\u001b[0mfit\u001b[0m\u001b[1;33m(\u001b[0m\u001b[1;33m)\u001b[0m\u001b[1;33m\u001b[0m\u001b[1;33m\u001b[0m\u001b[0m\n\u001b[0m",
      "\u001b[1;32mD:\\dlcourse\\dlcourse_ai\\assignments\\assignment2\\trainer.py\u001b[0m in \u001b[0;36mfit\u001b[1;34m(self)\u001b[0m\n\u001b[0;32m    101\u001b[0m                 \u001b[1;31m# the params\u001b[0m\u001b[1;33m\u001b[0m\u001b[1;33m\u001b[0m\u001b[1;33m\u001b[0m\u001b[0m\n\u001b[0;32m    102\u001b[0m \u001b[1;33m\u001b[0m\u001b[0m\n\u001b[1;32m--> 103\u001b[1;33m                 \u001b[0mloss\u001b[0m \u001b[1;33m=\u001b[0m \u001b[0mself\u001b[0m\u001b[1;33m.\u001b[0m\u001b[0mmodel\u001b[0m\u001b[1;33m.\u001b[0m\u001b[0mcompute_loss_and_gradients\u001b[0m\u001b[1;33m(\u001b[0m\u001b[0mself\u001b[0m\u001b[1;33m.\u001b[0m\u001b[0mdataset\u001b[0m\u001b[1;33m.\u001b[0m\u001b[0mtrain_X\u001b[0m\u001b[1;33m[\u001b[0m\u001b[0mbatch_indices\u001b[0m\u001b[1;33m]\u001b[0m\u001b[1;33m,\u001b[0m \u001b[0mself\u001b[0m\u001b[1;33m.\u001b[0m\u001b[0mdataset\u001b[0m\u001b[1;33m.\u001b[0m\u001b[0mtrain_y\u001b[0m\u001b[1;33m[\u001b[0m\u001b[0mbatch_indices\u001b[0m\u001b[1;33m]\u001b[0m\u001b[1;33m)\u001b[0m\u001b[1;33m\u001b[0m\u001b[1;33m\u001b[0m\u001b[0m\n\u001b[0m\u001b[0;32m    104\u001b[0m \u001b[1;33m\u001b[0m\u001b[0m\n\u001b[0;32m    105\u001b[0m                 \u001b[1;32mfor\u001b[0m \u001b[0mparam_name\u001b[0m\u001b[1;33m,\u001b[0m \u001b[0mparam\u001b[0m \u001b[1;32min\u001b[0m \u001b[0mself\u001b[0m\u001b[1;33m.\u001b[0m\u001b[0mmodel\u001b[0m\u001b[1;33m.\u001b[0m\u001b[0mparams\u001b[0m\u001b[1;33m(\u001b[0m\u001b[1;33m)\u001b[0m\u001b[1;33m.\u001b[0m\u001b[0mitems\u001b[0m\u001b[1;33m(\u001b[0m\u001b[1;33m)\u001b[0m\u001b[1;33m:\u001b[0m\u001b[1;33m\u001b[0m\u001b[1;33m\u001b[0m\u001b[0m\n",
      "\u001b[1;32mD:\\dlcourse\\dlcourse_ai\\assignments\\assignment2\\model.py\u001b[0m in \u001b[0;36mcompute_loss_and_gradients\u001b[1;34m(self, X, y)\u001b[0m\n\u001b[0;32m     64\u001b[0m         \u001b[0md_w2\u001b[0m \u001b[1;33m=\u001b[0m \u001b[0mself\u001b[0m\u001b[1;33m.\u001b[0m\u001b[0mw2\u001b[0m\u001b[1;33m.\u001b[0m\u001b[0mbackward\u001b[0m\u001b[1;33m(\u001b[0m\u001b[0mgrad\u001b[0m\u001b[1;33m)\u001b[0m\u001b[1;33m\u001b[0m\u001b[1;33m\u001b[0m\u001b[0m\n\u001b[0;32m     65\u001b[0m         \u001b[0md_relu\u001b[0m \u001b[1;33m=\u001b[0m \u001b[0mself\u001b[0m\u001b[1;33m.\u001b[0m\u001b[0mrelu\u001b[0m\u001b[1;33m.\u001b[0m\u001b[0mbackward\u001b[0m\u001b[1;33m(\u001b[0m\u001b[0md_w2\u001b[0m\u001b[1;33m)\u001b[0m\u001b[1;33m\u001b[0m\u001b[1;33m\u001b[0m\u001b[0m\n\u001b[1;32m---> 66\u001b[1;33m         \u001b[0md_w1\u001b[0m \u001b[1;33m=\u001b[0m \u001b[0mself\u001b[0m\u001b[1;33m.\u001b[0m\u001b[0mw1\u001b[0m\u001b[1;33m.\u001b[0m\u001b[0mbackward\u001b[0m\u001b[1;33m(\u001b[0m\u001b[0md_relu\u001b[0m\u001b[1;33m)\u001b[0m\u001b[1;33m\u001b[0m\u001b[1;33m\u001b[0m\u001b[0m\n\u001b[0m\u001b[0;32m     67\u001b[0m \u001b[1;33m\u001b[0m\u001b[0m\n\u001b[0;32m     68\u001b[0m         \u001b[1;33m(\u001b[0m\u001b[0mself\u001b[0m\u001b[1;33m.\u001b[0m\u001b[0mw1\u001b[0m\u001b[1;33m.\u001b[0m\u001b[0mparams\u001b[0m\u001b[1;33m(\u001b[0m\u001b[1;33m)\u001b[0m\u001b[1;33m[\u001b[0m\u001b[1;34m'W'\u001b[0m\u001b[1;33m]\u001b[0m\u001b[1;33m)\u001b[0m\u001b[1;33m.\u001b[0m\u001b[0mgrad\u001b[0m \u001b[1;33m+=\u001b[0m \u001b[0mgrad_w1\u001b[0m\u001b[1;33m\u001b[0m\u001b[1;33m\u001b[0m\u001b[0m\n",
      "\u001b[1;32mD:\\dlcourse\\dlcourse_ai\\assignments\\assignment2\\layers.py\u001b[0m in \u001b[0;36mbackward\u001b[1;34m(self, d_out)\u001b[0m\n\u001b[0;32m    162\u001b[0m         \u001b[0mself\u001b[0m\u001b[1;33m.\u001b[0m\u001b[0mB\u001b[0m\u001b[1;33m.\u001b[0m\u001b[0mgrad\u001b[0m \u001b[1;33m=\u001b[0m \u001b[0mnp\u001b[0m\u001b[1;33m.\u001b[0m\u001b[0msum\u001b[0m\u001b[1;33m(\u001b[0m\u001b[0md_out\u001b[0m\u001b[1;33m,\u001b[0m \u001b[0maxis\u001b[0m \u001b[1;33m=\u001b[0m \u001b[1;36m0\u001b[0m\u001b[1;33m)\u001b[0m\u001b[1;33m[\u001b[0m\u001b[1;32mNone\u001b[0m\u001b[1;33m,\u001b[0m \u001b[1;33m:\u001b[0m\u001b[1;33m]\u001b[0m\u001b[1;33m\u001b[0m\u001b[1;33m\u001b[0m\u001b[0m\n\u001b[0;32m    163\u001b[0m \u001b[1;33m\u001b[0m\u001b[0m\n\u001b[1;32m--> 164\u001b[1;33m         \u001b[0md_result\u001b[0m \u001b[1;33m=\u001b[0m \u001b[0mnp\u001b[0m\u001b[1;33m.\u001b[0m\u001b[0mdot\u001b[0m\u001b[1;33m(\u001b[0m\u001b[0md_out\u001b[0m\u001b[1;33m,\u001b[0m \u001b[0mself\u001b[0m\u001b[1;33m.\u001b[0m\u001b[0mW\u001b[0m\u001b[1;33m.\u001b[0m\u001b[0mvalue\u001b[0m\u001b[1;33m.\u001b[0m\u001b[0mT\u001b[0m\u001b[1;33m)\u001b[0m\u001b[1;33m\u001b[0m\u001b[1;33m\u001b[0m\u001b[0m\n\u001b[0m\u001b[0;32m    165\u001b[0m \u001b[1;33m\u001b[0m\u001b[0m\n\u001b[0;32m    166\u001b[0m         \u001b[1;32mreturn\u001b[0m \u001b[0md_result\u001b[0m\u001b[1;33m\u001b[0m\u001b[1;33m\u001b[0m\u001b[0m\n",
      "\u001b[1;32m<__array_function__ internals>\u001b[0m in \u001b[0;36mdot\u001b[1;34m(*args, **kwargs)\u001b[0m\n",
      "\u001b[1;31mKeyboardInterrupt\u001b[0m: "
     ]
    }
   ],
   "source": [
    "model = TwoLayerNet(n_input = train_X.shape[1], n_output = 10, hidden_layer_size = 100, reg = 1e-3)\n",
    "dataset = Dataset(train_X, train_y, val_X, val_y)\n",
    "trainer = Trainer(model, dataset, SGD(), learning_rate = 1e-2)\n",
    "\n",
    "# TODO Implement missing pieces in Trainer.fit function\n",
    "# You should expect loss to go down every epoch, even if it's slow\n",
    "loss_history, train_history, val_history = trainer.fit()"
   ]
  },
  {
   "cell_type": "code",
   "execution_count": null,
   "metadata": {},
   "outputs": [],
   "source": [
    "plt.plot(train_history)\n",
    "plt.plot(val_history)"
   ]
  },
  {
   "cell_type": "markdown",
   "metadata": {},
   "source": [
    "# Улучшаем процесс тренировки\n",
    "\n",
    "Мы реализуем несколько ключевых оптимизаций, необходимых для тренировки современных нейросетей."
   ]
  },
  {
   "cell_type": "markdown",
   "metadata": {},
   "source": [
    "## Уменьшение скорости обучения (learning rate decay)\n",
    "\n",
    "Одна из необходимых оптимизаций во время тренировки нейронных сетей - постепенное уменьшение скорости обучения по мере тренировки.\n",
    "\n",
    "Один из стандартных методов - уменьшение скорости обучения (learning rate) каждые N эпох на коэффициент d (часто называемый decay). Значения N и d, как всегда, являются гиперпараметрами и должны подбираться на основе эффективности на проверочных данных (validation data). \n",
    "\n",
    "В нашем случае N будет равным 1."
   ]
  },
  {
   "cell_type": "code",
   "execution_count": 9,
   "metadata": {},
   "outputs": [
    {
     "name": "stdout",
     "output_type": "stream",
     "text": [
      "Loss: 37.755460, Train accuracy: 0.342333, val accuracy: 0.350000\n",
      "Loss: 33.768288, Train accuracy: 0.554333, val accuracy: 0.542000\n",
      "Loss: 18.549686, Train accuracy: 0.629444, val accuracy: 0.592000\n",
      "Loss: 31.135443, Train accuracy: 0.670000, val accuracy: 0.657000\n",
      "Loss: 22.077352, Train accuracy: 0.695667, val accuracy: 0.650000\n",
      "Loss: 22.990943, Train accuracy: 0.734889, val accuracy: 0.668000\n",
      "Loss: 18.472858, Train accuracy: 0.737889, val accuracy: 0.702000\n",
      "Loss: 16.278421, Train accuracy: 0.747889, val accuracy: 0.688000\n",
      "Loss: 17.834195, Train accuracy: 0.727556, val accuracy: 0.643000\n",
      "Loss: 24.943159, Train accuracy: 0.797000, val accuracy: 0.716000\n",
      "Loss: 42.037648, Train accuracy: 0.775000, val accuracy: 0.687000\n",
      "Loss: 9.783216, Train accuracy: 0.772889, val accuracy: 0.697000\n",
      "Loss: 14.976144, Train accuracy: 0.813333, val accuracy: 0.715000\n",
      "Loss: 7.051962, Train accuracy: 0.787778, val accuracy: 0.695000\n",
      "Loss: 17.242056, Train accuracy: 0.830444, val accuracy: 0.718000\n",
      "Loss: 17.158662, Train accuracy: 0.802111, val accuracy: 0.703000\n",
      "Loss: 4.149938, Train accuracy: 0.851778, val accuracy: 0.731000\n",
      "Loss: 14.259284, Train accuracy: 0.835778, val accuracy: 0.711000\n",
      "Loss: 8.670137, Train accuracy: 0.853222, val accuracy: 0.725000\n",
      "Loss: 16.570136, Train accuracy: 0.865333, val accuracy: 0.733000\n"
     ]
    }
   ],
   "source": [
    "# TODO Implement learning rate decay inside Trainer.fit method\n",
    "# Decay should happen once per epoch\n",
    "\n",
    "model = TwoLayerNet(n_input = train_X.shape[1], n_output = 10, hidden_layer_size = 100, reg = 1e-3)\n",
    "dataset = Dataset(train_X, train_y, val_X, val_y)\n",
    "trainer = Trainer(model, dataset, SGD(), learning_rate = 1e-2, learning_rate_decay=0.99)\n",
    "\n",
    "initial_learning_rate = trainer.learning_rate\n",
    "loss_history, train_history, val_history = trainer.fit()\n",
    "\n",
    "assert trainer.learning_rate < initial_learning_rate, \"Learning rate should've been reduced\"\n",
    "assert trainer.learning_rate > 0.5*initial_learning_rate, \"Learning rate shouldn'tve been reduced that much!\""
   ]
  },
  {
   "cell_type": "markdown",
   "metadata": {},
   "source": [
    "# Накопление импульса (Momentum SGD)\n",
    "\n",
    "Другой большой класс оптимизаций - использование более эффективных методов градиентного спуска. Мы реализуем один из них - накопление импульса (Momentum SGD).\n",
    "\n",
    "Этот метод хранит скорость движения, использует градиент для ее изменения на каждом шаге, и изменяет веса пропорционально значению скорости.\n",
    "(Физическая аналогия: Вместо скорости градиенты теперь будут задавать ускорение, но будет присутствовать сила трения.)\n",
    "\n",
    "```\n",
    "velocity = momentum * velocity - learning_rate * gradient \n",
    "w = w + velocity\n",
    "```\n",
    "\n",
    "`momentum` здесь коэффициент затухания, который тоже является гиперпараметром (к счастью, для него часто есть хорошее значение по умолчанию, типичный диапазон -- 0.8-0.99).\n",
    "\n",
    "Несколько полезных ссылок, где метод разбирается более подробно:  \n",
    "http://cs231n.github.io/neural-networks-3/#sgd  \n",
    "https://distill.pub/2017/momentum/"
   ]
  },
  {
   "cell_type": "code",
   "execution_count": null,
   "metadata": {},
   "outputs": [],
   "source": [
    "# TODO: Implement MomentumSGD.update function in optim.py\n",
    "\n",
    "model = TwoLayerNet(n_input = train_X.shape[1], n_output = 10, hidden_layer_size = 100, reg = 1e-3)\n",
    "dataset = Dataset(train_X, train_y, val_X, val_y)\n",
    "trainer = Trainer(model, dataset, MomentumSGD(), learning_rate=1e-4, learning_rate_decay=0.99)\n",
    "\n",
    "# You should see even better results than before!\n",
    "loss_history, train_history, val_history = trainer.fit()"
   ]
  },
  {
   "cell_type": "markdown",
   "metadata": {},
   "source": [
    "# Ну что, давайте уже тренировать сеть!"
   ]
  },
  {
   "cell_type": "markdown",
   "metadata": {},
   "source": [
    "## Последний тест - переобучимся (overfit) на маленьком наборе данных\n",
    "\n",
    "Хороший способ проверить, все ли реализовано корректно - переобучить сеть на маленьком наборе данных.  \n",
    "Наша модель обладает достаточной мощностью, чтобы приблизить маленький набор данных идеально, поэтому мы ожидаем, что на нем мы быстро дойдем до 100% точности на тренировочном наборе. \n",
    "\n",
    "Если этого не происходит, то где-то была допущена ошибка!"
   ]
  },
  {
   "cell_type": "code",
   "execution_count": 10,
   "metadata": {},
   "outputs": [
    {
     "name": "stdout",
     "output_type": "stream",
     "text": [
      "Loss: 11.558309, Train accuracy: 0.200000, val accuracy: 0.133333\n",
      "Loss: 11.593980, Train accuracy: 0.200000, val accuracy: 0.066667\n",
      "Loss: 10.641575, Train accuracy: 0.400000, val accuracy: 0.000000\n",
      "Loss: 17.614036, Train accuracy: 0.200000, val accuracy: 0.066667\n",
      "Loss: 16.083116, Train accuracy: 0.333333, val accuracy: 0.066667\n",
      "Loss: 31.542297, Train accuracy: 0.133333, val accuracy: 0.200000\n",
      "Loss: 55.420069, Train accuracy: 0.266667, val accuracy: 0.133333\n",
      "Loss: 29.180974, Train accuracy: 0.066667, val accuracy: 0.333333\n",
      "Loss: 348.586806, Train accuracy: 0.266667, val accuracy: 0.066667\n",
      "Loss: 732.406040, Train accuracy: 0.266667, val accuracy: 0.133333\n",
      "Loss: inf, Train accuracy: 0.333333, val accuracy: 0.133333\n",
      "Loss: inf, Train accuracy: 0.266667, val accuracy: 0.333333\n",
      "Loss: inf, Train accuracy: 0.200000, val accuracy: 0.133333\n",
      "Loss: inf, Train accuracy: 0.266667, val accuracy: 0.133333\n",
      "Loss: inf, Train accuracy: 0.266667, val accuracy: 0.000000\n",
      "Loss: inf, Train accuracy: 0.200000, val accuracy: 0.200000\n",
      "Loss: inf, Train accuracy: 0.133333, val accuracy: 0.066667\n",
      "Loss: inf, Train accuracy: 0.333333, val accuracy: 0.066667\n",
      "Loss: inf, Train accuracy: 0.333333, val accuracy: 0.066667\n",
      "Loss: inf, Train accuracy: 0.333333, val accuracy: 0.000000\n",
      "Loss: inf, Train accuracy: 0.200000, val accuracy: 0.133333\n",
      "Loss: inf, Train accuracy: 0.400000, val accuracy: 0.133333\n",
      "Loss: inf, Train accuracy: 0.200000, val accuracy: 0.066667\n",
      "Loss: inf, Train accuracy: 0.200000, val accuracy: 0.200000\n",
      "Loss: inf, Train accuracy: 0.000000, val accuracy: 0.133333\n",
      "Loss: inf, Train accuracy: 0.200000, val accuracy: 0.066667\n",
      "Loss: inf, Train accuracy: 0.266667, val accuracy: 0.133333\n",
      "Loss: inf, Train accuracy: 0.133333, val accuracy: 0.200000\n",
      "Loss: inf, Train accuracy: 0.066667, val accuracy: 0.066667\n",
      "Loss: inf, Train accuracy: 0.066667, val accuracy: 0.000000\n",
      "Loss: inf, Train accuracy: 0.266667, val accuracy: 0.200000\n",
      "Loss: inf, Train accuracy: 0.200000, val accuracy: 0.266667\n",
      "Loss: inf, Train accuracy: 0.133333, val accuracy: 0.266667\n",
      "Loss: inf, Train accuracy: 0.200000, val accuracy: 0.000000\n",
      "Loss: inf, Train accuracy: 0.333333, val accuracy: 0.066667\n",
      "Loss: inf, Train accuracy: 0.200000, val accuracy: 0.333333\n",
      "Loss: inf, Train accuracy: 0.133333, val accuracy: 0.200000\n",
      "Loss: inf, Train accuracy: 0.266667, val accuracy: 0.266667\n",
      "Loss: inf, Train accuracy: 0.333333, val accuracy: 0.133333\n",
      "Loss: inf, Train accuracy: 0.066667, val accuracy: 0.200000\n",
      "Loss: inf, Train accuracy: 0.133333, val accuracy: 0.133333\n",
      "Loss: inf, Train accuracy: 0.200000, val accuracy: 0.133333\n",
      "Loss: inf, Train accuracy: 0.000000, val accuracy: 0.066667\n",
      "Loss: inf, Train accuracy: 0.133333, val accuracy: 0.133333\n",
      "Loss: inf, Train accuracy: 0.266667, val accuracy: 0.066667\n",
      "Loss: inf, Train accuracy: 0.200000, val accuracy: 0.000000\n",
      "Loss: inf, Train accuracy: 0.266667, val accuracy: 0.066667\n",
      "Loss: inf, Train accuracy: 0.200000, val accuracy: 0.066667\n",
      "Loss: inf, Train accuracy: 0.200000, val accuracy: 0.066667\n",
      "Loss: inf, Train accuracy: 0.266667, val accuracy: 0.000000\n",
      "Loss: inf, Train accuracy: 0.200000, val accuracy: 0.000000\n",
      "Loss: inf, Train accuracy: 0.200000, val accuracy: 0.000000\n",
      "Loss: inf, Train accuracy: 0.066667, val accuracy: 0.266667\n",
      "Loss: inf, Train accuracy: 0.333333, val accuracy: 0.066667\n",
      "Loss: inf, Train accuracy: 0.200000, val accuracy: 0.133333\n",
      "Loss: inf, Train accuracy: 0.200000, val accuracy: 0.066667\n",
      "Loss: inf, Train accuracy: 0.266667, val accuracy: 0.133333\n",
      "Loss: inf, Train accuracy: 0.133333, val accuracy: 0.133333\n",
      "Loss: inf, Train accuracy: 0.066667, val accuracy: 0.200000\n",
      "Loss: inf, Train accuracy: 0.200000, val accuracy: 0.000000\n",
      "Loss: inf, Train accuracy: 0.133333, val accuracy: 0.133333\n",
      "Loss: inf, Train accuracy: 0.133333, val accuracy: 0.133333\n",
      "Loss: inf, Train accuracy: 0.066667, val accuracy: 0.266667\n",
      "Loss: inf, Train accuracy: 0.066667, val accuracy: 0.200000\n",
      "Loss: inf, Train accuracy: 0.000000, val accuracy: 0.133333\n",
      "Loss: inf, Train accuracy: 0.200000, val accuracy: 0.133333\n",
      "Loss: inf, Train accuracy: 0.266667, val accuracy: 0.200000\n",
      "Loss: inf, Train accuracy: 0.000000, val accuracy: 0.266667\n",
      "Loss: inf, Train accuracy: 0.133333, val accuracy: 0.133333\n",
      "Loss: inf, Train accuracy: 0.066667, val accuracy: 0.200000\n",
      "Loss: inf, Train accuracy: 0.133333, val accuracy: 0.133333\n",
      "Loss: inf, Train accuracy: 0.066667, val accuracy: 0.333333\n",
      "Loss: inf, Train accuracy: 0.133333, val accuracy: 0.066667\n",
      "Loss: inf, Train accuracy: 0.333333, val accuracy: 0.133333\n",
      "Loss: inf, Train accuracy: 0.200000, val accuracy: 0.000000\n",
      "Loss: inf, Train accuracy: 0.133333, val accuracy: 0.133333\n",
      "Loss: inf, Train accuracy: 0.000000, val accuracy: 0.200000\n",
      "Loss: inf, Train accuracy: 0.133333, val accuracy: 0.133333\n",
      "Loss: inf, Train accuracy: 0.333333, val accuracy: 0.066667\n",
      "Loss: inf, Train accuracy: 0.066667, val accuracy: 0.200000\n",
      "Loss: inf, Train accuracy: 0.400000, val accuracy: 0.133333\n",
      "Loss: inf, Train accuracy: 0.000000, val accuracy: 0.200000\n",
      "Loss: inf, Train accuracy: 0.333333, val accuracy: 0.133333\n",
      "Loss: inf, Train accuracy: 0.266667, val accuracy: 0.133333\n",
      "Loss: inf, Train accuracy: 0.266667, val accuracy: 0.133333\n",
      "Loss: inf, Train accuracy: 0.400000, val accuracy: 0.200000\n",
      "Loss: inf, Train accuracy: 0.266667, val accuracy: 0.200000\n",
      "Loss: inf, Train accuracy: 0.133333, val accuracy: 0.266667\n",
      "Loss: inf, Train accuracy: 0.266667, val accuracy: 0.266667\n",
      "Loss: inf, Train accuracy: 0.200000, val accuracy: 0.133333\n",
      "Loss: inf, Train accuracy: 0.133333, val accuracy: 0.133333\n",
      "Loss: inf, Train accuracy: 0.133333, val accuracy: 0.133333\n",
      "Loss: inf, Train accuracy: 0.200000, val accuracy: 0.133333\n",
      "Loss: inf, Train accuracy: 0.200000, val accuracy: 0.133333\n",
      "Loss: inf, Train accuracy: 0.333333, val accuracy: 0.066667\n",
      "Loss: inf, Train accuracy: 0.066667, val accuracy: 0.133333\n",
      "Loss: inf, Train accuracy: 0.200000, val accuracy: 0.133333\n",
      "Loss: inf, Train accuracy: 0.200000, val accuracy: 0.133333\n",
      "Loss: inf, Train accuracy: 0.266667, val accuracy: 0.066667\n",
      "Loss: inf, Train accuracy: 0.066667, val accuracy: 0.066667\n",
      "Loss: inf, Train accuracy: 0.133333, val accuracy: 0.133333\n",
      "Loss: inf, Train accuracy: 0.133333, val accuracy: 0.266667\n",
      "Loss: inf, Train accuracy: 0.333333, val accuracy: 0.066667\n",
      "Loss: inf, Train accuracy: 0.000000, val accuracy: 0.133333\n",
      "Loss: inf, Train accuracy: 0.200000, val accuracy: 0.066667\n",
      "Loss: inf, Train accuracy: 0.066667, val accuracy: 0.200000\n",
      "Loss: inf, Train accuracy: 0.200000, val accuracy: 0.266667\n",
      "Loss: inf, Train accuracy: 0.133333, val accuracy: 0.266667\n",
      "Loss: inf, Train accuracy: 0.066667, val accuracy: 0.200000\n",
      "Loss: inf, Train accuracy: 0.333333, val accuracy: 0.000000\n",
      "Loss: inf, Train accuracy: 0.200000, val accuracy: 0.066667\n",
      "Loss: inf, Train accuracy: 0.066667, val accuracy: 0.066667\n",
      "Loss: inf, Train accuracy: 0.266667, val accuracy: 0.133333\n",
      "Loss: inf, Train accuracy: 0.133333, val accuracy: 0.200000\n",
      "Loss: inf, Train accuracy: 0.200000, val accuracy: 0.066667\n",
      "Loss: inf, Train accuracy: 0.200000, val accuracy: 0.000000\n",
      "Loss: inf, Train accuracy: 0.066667, val accuracy: 0.200000\n",
      "Loss: inf, Train accuracy: 0.133333, val accuracy: 0.266667\n",
      "Loss: inf, Train accuracy: 0.133333, val accuracy: 0.133333\n",
      "Loss: inf, Train accuracy: 0.133333, val accuracy: 0.133333\n",
      "Loss: inf, Train accuracy: 0.066667, val accuracy: 0.066667\n",
      "Loss: inf, Train accuracy: 0.133333, val accuracy: 0.133333\n",
      "Loss: inf, Train accuracy: 0.200000, val accuracy: 0.066667\n",
      "Loss: inf, Train accuracy: 0.200000, val accuracy: 0.133333\n",
      "Loss: inf, Train accuracy: 0.400000, val accuracy: 0.000000\n",
      "Loss: inf, Train accuracy: 0.133333, val accuracy: 0.200000\n",
      "Loss: inf, Train accuracy: 0.133333, val accuracy: 0.200000\n",
      "Loss: inf, Train accuracy: 0.266667, val accuracy: 0.000000\n",
      "Loss: inf, Train accuracy: 0.200000, val accuracy: 0.133333\n",
      "Loss: inf, Train accuracy: 0.066667, val accuracy: 0.200000\n",
      "Loss: inf, Train accuracy: 0.200000, val accuracy: 0.000000\n",
      "Loss: inf, Train accuracy: 0.066667, val accuracy: 0.000000\n",
      "Loss: inf, Train accuracy: 0.066667, val accuracy: 0.066667\n",
      "Loss: inf, Train accuracy: 0.266667, val accuracy: 0.000000\n",
      "Loss: inf, Train accuracy: 0.066667, val accuracy: 0.066667\n",
      "Loss: inf, Train accuracy: 0.133333, val accuracy: 0.066667\n",
      "Loss: inf, Train accuracy: 0.333333, val accuracy: 0.000000\n",
      "Loss: inf, Train accuracy: 0.466667, val accuracy: 0.000000\n",
      "Loss: inf, Train accuracy: 0.400000, val accuracy: 0.066667\n"
     ]
    },
    {
     "name": "stdout",
     "output_type": "stream",
     "text": [
      "Loss: inf, Train accuracy: 0.200000, val accuracy: 0.000000\n",
      "Loss: inf, Train accuracy: 0.200000, val accuracy: 0.000000\n",
      "Loss: inf, Train accuracy: 0.266667, val accuracy: 0.133333\n",
      "Loss: inf, Train accuracy: 0.266667, val accuracy: 0.066667\n",
      "Loss: inf, Train accuracy: 0.333333, val accuracy: 0.000000\n",
      "Loss: inf, Train accuracy: 0.400000, val accuracy: 0.000000\n",
      "Loss: inf, Train accuracy: 0.400000, val accuracy: 0.133333\n",
      "Loss: inf, Train accuracy: 0.333333, val accuracy: 0.066667\n",
      "Loss: inf, Train accuracy: 0.333333, val accuracy: 0.066667\n",
      "Loss: inf, Train accuracy: 0.466667, val accuracy: 0.133333\n",
      "Loss: 10799855183465158956373757141642529031832971746026530072609435942912.000000, Train accuracy: 0.466667, val accuracy: 0.133333\n"
     ]
    }
   ],
   "source": [
    "data_size = 15\n",
    "model = TwoLayerNet(n_input = train_X.shape[1], n_output = 10, hidden_layer_size = 100, reg = 1e-1)\n",
    "dataset = Dataset(train_X[:data_size], train_y[:data_size], val_X[:data_size], val_y[:data_size])\n",
    "trainer = Trainer(model, dataset, SGD(), learning_rate=1e-1, num_epochs=150, batch_size=5)\n",
    "\n",
    "# You should expect this to reach 1.0 training accuracy \n",
    "loss_history, train_history, val_history = trainer.fit()"
   ]
  },
  {
   "cell_type": "markdown",
   "metadata": {},
   "source": [
    "Теперь найдем гипепараметры, для которых этот процесс сходится быстрее.\n",
    "Если все реализовано корректно, то существуют параметры, при которых процесс сходится в **20** эпох или еще быстрее.\n",
    "Найдите их!"
   ]
  },
  {
   "cell_type": "code",
   "execution_count": null,
   "metadata": {},
   "outputs": [],
   "source": [
    "# Now, tweak some hyper parameters and make it train to 1.0 accuracy in 20 epochs or less\n",
    "\n",
    "model = TwoLayerNet(n_input = train_X.shape[1], n_output = 10, hidden_layer_size = 200, reg = 2e-3)\n",
    "dataset = Dataset(train_X[:data_size], train_y[:data_size], val_X[:data_size], val_y[:data_size])\n",
    "# TODO: Change any hyperparamers or optimizators to reach training accuracy in 20 epochs\n",
    "trainer = Trainer(model, dataset, SGD(), learning_rate=1e-1, num_epochs=20, batch_size=2)\n",
    "\n",
    "loss_history, train_history, val_history = trainer.fit()"
   ]
  },
  {
   "cell_type": "markdown",
   "metadata": {},
   "source": [
    "# Итак, основное мероприятие!\n",
    "\n",
    "Натренируйте лучшую нейросеть! Можно добавлять и изменять параметры, менять количество нейронов в слоях сети и как угодно экспериментировать. \n",
    "\n",
    "Добейтесь точности лучше **60%** на validation set."
   ]
  },
  {
   "cell_type": "code",
   "execution_count": 12,
   "metadata": {
    "scrolled": false
   },
   "outputs": [
    {
     "name": "stdout",
     "output_type": "stream",
     "text": [
      "Loss: 86.319989, Train accuracy: 0.196889, val accuracy: 0.205000\n",
      "Loss: 76.349750, Train accuracy: 0.345667, val accuracy: 0.362000\n",
      "Loss: 67.672097, Train accuracy: 0.452333, val accuracy: 0.474000\n",
      "Loss: 63.873544, Train accuracy: 0.518889, val accuracy: 0.518000\n",
      "Loss: 68.776825, Train accuracy: 0.582444, val accuracy: 0.577000\n",
      "Loss: 34.181256, Train accuracy: 0.638222, val accuracy: 0.624000\n",
      "Loss: 46.816070, Train accuracy: 0.653556, val accuracy: 0.621000\n",
      "Loss: 35.976280, Train accuracy: 0.687222, val accuracy: 0.634000\n",
      "Loss: 45.905852, Train accuracy: 0.642889, val accuracy: 0.606000\n",
      "Loss: 30.764154, Train accuracy: 0.679889, val accuracy: 0.637000\n",
      "Loss: 28.275246, Train accuracy: 0.683889, val accuracy: 0.613000\n",
      "Loss: 34.075168, Train accuracy: 0.700000, val accuracy: 0.632000\n",
      "Loss: 45.283384, Train accuracy: 0.746778, val accuracy: 0.661000\n",
      "Loss: 24.547435, Train accuracy: 0.758889, val accuracy: 0.674000\n",
      "Loss: 24.067992, Train accuracy: 0.755222, val accuracy: 0.676000\n",
      "Loss: 25.331541, Train accuracy: 0.761889, val accuracy: 0.662000\n",
      "Loss: 20.806444, Train accuracy: 0.778111, val accuracy: 0.679000\n",
      "Loss: 26.111683, Train accuracy: 0.773889, val accuracy: 0.681000\n",
      "Loss: 32.171610, Train accuracy: 0.739333, val accuracy: 0.662000\n",
      "Loss: 34.328825, Train accuracy: 0.800556, val accuracy: 0.690000\n",
      "Loss: 33.188689, Train accuracy: 0.806000, val accuracy: 0.689000\n",
      "Loss: 47.060015, Train accuracy: 0.795444, val accuracy: 0.677000\n",
      "Loss: 36.160345, Train accuracy: 0.775667, val accuracy: 0.667000\n",
      "Loss: 56.113584, Train accuracy: 0.791333, val accuracy: 0.693000\n",
      "Loss: 19.527703, Train accuracy: 0.805111, val accuracy: 0.695000\n",
      "Loss: 29.616682, Train accuracy: 0.798222, val accuracy: 0.673000\n",
      "Loss: 39.493651, Train accuracy: 0.837222, val accuracy: 0.699000\n",
      "Loss: 22.793570, Train accuracy: 0.844667, val accuracy: 0.690000\n",
      "Loss: 53.491612, Train accuracy: 0.817333, val accuracy: 0.678000\n",
      "Loss: 38.827375, Train accuracy: 0.780556, val accuracy: 0.669000\n",
      "Loss: 19.315153, Train accuracy: 0.837333, val accuracy: 0.690000\n",
      "Loss: 19.367302, Train accuracy: 0.862778, val accuracy: 0.723000\n",
      "Loss: 16.790247, Train accuracy: 0.813778, val accuracy: 0.675000\n",
      "Loss: 29.958436, Train accuracy: 0.831556, val accuracy: 0.695000\n",
      "Loss: 30.239906, Train accuracy: 0.857889, val accuracy: 0.696000\n",
      "Loss: 44.239617, Train accuracy: 0.843222, val accuracy: 0.691000\n",
      "Loss: 10.166677, Train accuracy: 0.886444, val accuracy: 0.725000\n",
      "Loss: 25.076439, Train accuracy: 0.894111, val accuracy: 0.728000\n",
      "Loss: 27.326808, Train accuracy: 0.878222, val accuracy: 0.709000\n",
      "Loss: 20.498097, Train accuracy: 0.856333, val accuracy: 0.694000\n",
      "Loss: 46.677843, Train accuracy: 0.812778, val accuracy: 0.683000\n",
      "Loss: 25.276426, Train accuracy: 0.822556, val accuracy: 0.680000\n",
      "Loss: 42.021526, Train accuracy: 0.871889, val accuracy: 0.714000\n",
      "Loss: 19.801908, Train accuracy: 0.903222, val accuracy: 0.734000\n",
      "Loss: 30.483806, Train accuracy: 0.886333, val accuracy: 0.723000\n",
      "Loss: 44.712258, Train accuracy: 0.896778, val accuracy: 0.714000\n",
      "Loss: 37.801720, Train accuracy: 0.879222, val accuracy: 0.715000\n",
      "Loss: 13.967844, Train accuracy: 0.882889, val accuracy: 0.713000\n",
      "Loss: 12.542892, Train accuracy: 0.881111, val accuracy: 0.703000\n",
      "Loss: 24.482687, Train accuracy: 0.893444, val accuracy: 0.728000\n",
      "Loss: 12.776602, Train accuracy: 0.893222, val accuracy: 0.722000\n",
      "Loss: 17.958134, Train accuracy: 0.896889, val accuracy: 0.718000\n",
      "Loss: 22.209846, Train accuracy: 0.923444, val accuracy: 0.740000\n",
      "Loss: 23.470837, Train accuracy: 0.882667, val accuracy: 0.698000\n",
      "Loss: 20.730643, Train accuracy: 0.879889, val accuracy: 0.706000\n",
      "Loss: 11.686251, Train accuracy: 0.915444, val accuracy: 0.742000\n",
      "Loss: 29.677968, Train accuracy: 0.929444, val accuracy: 0.740000\n",
      "Loss: 23.941123, Train accuracy: 0.931444, val accuracy: 0.731000\n",
      "Loss: 24.162829, Train accuracy: 0.917000, val accuracy: 0.722000\n",
      "Loss: 20.099464, Train accuracy: 0.917778, val accuracy: 0.720000\n",
      "Loss: 38.899488, Train accuracy: 0.901111, val accuracy: 0.702000\n",
      "Loss: 14.418427, Train accuracy: 0.920333, val accuracy: 0.730000\n",
      "Loss: 16.860189, Train accuracy: 0.913222, val accuracy: 0.707000\n",
      "Loss: 28.751462, Train accuracy: 0.917556, val accuracy: 0.716000\n",
      "Loss: 22.794727, Train accuracy: 0.933556, val accuracy: 0.713000\n",
      "Loss: 17.732877, Train accuracy: 0.929667, val accuracy: 0.735000\n",
      "Loss: 12.685698, Train accuracy: 0.903667, val accuracy: 0.730000\n",
      "Loss: 12.126554, Train accuracy: 0.906556, val accuracy: 0.731000\n",
      "Loss: 8.014172, Train accuracy: 0.924667, val accuracy: 0.727000\n",
      "Loss: 16.288124, Train accuracy: 0.914556, val accuracy: 0.725000\n",
      "Loss: 22.620985, Train accuracy: 0.907889, val accuracy: 0.720000\n",
      "Loss: 18.303582, Train accuracy: 0.909778, val accuracy: 0.720000\n",
      "Loss: 9.853008, Train accuracy: 0.890444, val accuracy: 0.712000\n",
      "Loss: 34.628337, Train accuracy: 0.917778, val accuracy: 0.717000\n",
      "Loss: 16.355876, Train accuracy: 0.926667, val accuracy: 0.719000\n",
      "Loss: 28.773020, Train accuracy: 0.917222, val accuracy: 0.733000\n",
      "Loss: 23.377059, Train accuracy: 0.916000, val accuracy: 0.714000\n",
      "Loss: 39.794564, Train accuracy: 0.920667, val accuracy: 0.716000\n",
      "Loss: 19.987212, Train accuracy: 0.927333, val accuracy: 0.730000\n",
      "Loss: 10.741079, Train accuracy: 0.918333, val accuracy: 0.725000\n",
      "Loss: 23.865433, Train accuracy: 0.943111, val accuracy: 0.729000\n",
      "Loss: 14.220325, Train accuracy: 0.930222, val accuracy: 0.709000\n",
      "Loss: 15.781500, Train accuracy: 0.943778, val accuracy: 0.727000\n",
      "Loss: 12.012314, Train accuracy: 0.958556, val accuracy: 0.739000\n",
      "Loss: 15.614406, Train accuracy: 0.925000, val accuracy: 0.721000\n",
      "Loss: 14.513063, Train accuracy: 0.954778, val accuracy: 0.735000\n",
      "Loss: 9.480532, Train accuracy: 0.966889, val accuracy: 0.743000\n",
      "Loss: 8.970263, Train accuracy: 0.947889, val accuracy: 0.728000\n",
      "Loss: 18.956950, Train accuracy: 0.949444, val accuracy: 0.709000\n",
      "Loss: 10.681586, Train accuracy: 0.934000, val accuracy: 0.714000\n",
      "Loss: 30.895504, Train accuracy: 0.926889, val accuracy: 0.705000\n",
      "Loss: 16.258898, Train accuracy: 0.944667, val accuracy: 0.724000\n",
      "Loss: 16.114680, Train accuracy: 0.945778, val accuracy: 0.730000\n",
      "Loss: 21.408254, Train accuracy: 0.943000, val accuracy: 0.741000\n",
      "Loss: 11.914220, Train accuracy: 0.961778, val accuracy: 0.735000\n",
      "Loss: 9.475812, Train accuracy: 0.951444, val accuracy: 0.733000\n",
      "Loss: 10.045864, Train accuracy: 0.959333, val accuracy: 0.744000\n",
      "Loss: 13.718168, Train accuracy: 0.960889, val accuracy: 0.729000\n",
      "Loss: 29.007898, Train accuracy: 0.962333, val accuracy: 0.739000\n",
      "Loss: 19.207091, Train accuracy: 0.939333, val accuracy: 0.716000\n",
      "Loss: 14.644473, Train accuracy: 0.954222, val accuracy: 0.736000\n",
      "Loss: 17.009278, Train accuracy: 0.931000, val accuracy: 0.713000\n",
      "Loss: 30.879952, Train accuracy: 0.926111, val accuracy: 0.718000\n",
      "Loss: 22.231417, Train accuracy: 0.934222, val accuracy: 0.723000\n",
      "Loss: 9.799417, Train accuracy: 0.948333, val accuracy: 0.719000\n",
      "Loss: 14.475730, Train accuracy: 0.967556, val accuracy: 0.745000\n",
      "Loss: 10.618156, Train accuracy: 0.973111, val accuracy: 0.745000\n",
      "Loss: 11.568453, Train accuracy: 0.973444, val accuracy: 0.733000\n",
      "Loss: 12.190974, Train accuracy: 0.969667, val accuracy: 0.736000\n",
      "Loss: 15.105835, Train accuracy: 0.970889, val accuracy: 0.732000\n",
      "Loss: 17.370956, Train accuracy: 0.978222, val accuracy: 0.739000\n",
      "Loss: 9.510763, Train accuracy: 0.977000, val accuracy: 0.744000\n",
      "Loss: 13.013295, Train accuracy: 0.967556, val accuracy: 0.741000\n",
      "Loss: 12.521492, Train accuracy: 0.971667, val accuracy: 0.732000\n",
      "Loss: 9.854439, Train accuracy: 0.976333, val accuracy: 0.739000\n",
      "Loss: 9.097838, Train accuracy: 0.975000, val accuracy: 0.730000\n",
      "Loss: 16.409635, Train accuracy: 0.980444, val accuracy: 0.726000\n",
      "Loss: 11.289585, Train accuracy: 0.982333, val accuracy: 0.743000\n",
      "Loss: 14.556326, Train accuracy: 0.964000, val accuracy: 0.735000\n",
      "Loss: 13.903006, Train accuracy: 0.974667, val accuracy: 0.738000\n",
      "Loss: 12.472622, Train accuracy: 0.980667, val accuracy: 0.742000\n",
      "Loss: 13.869138, Train accuracy: 0.986889, val accuracy: 0.741000\n",
      "Loss: 9.405139, Train accuracy: 0.986444, val accuracy: 0.740000\n",
      "Loss: 12.584811, Train accuracy: 0.962333, val accuracy: 0.719000\n",
      "Loss: 9.566415, Train accuracy: 0.968889, val accuracy: 0.723000\n"
     ]
    },
    {
     "name": "stdout",
     "output_type": "stream",
     "text": [
      "Loss: 10.165731, Train accuracy: 0.968333, val accuracy: 0.742000\n",
      "Loss: 13.233420, Train accuracy: 0.970000, val accuracy: 0.735000\n",
      "Loss: 9.551570, Train accuracy: 0.978889, val accuracy: 0.733000\n",
      "Loss: 19.786677, Train accuracy: 0.973889, val accuracy: 0.728000\n",
      "Loss: 9.899656, Train accuracy: 0.971222, val accuracy: 0.732000\n",
      "Loss: 14.109516, Train accuracy: 0.969000, val accuracy: 0.723000\n",
      "Loss: 9.715252, Train accuracy: 0.985667, val accuracy: 0.744000\n",
      "Loss: 9.642414, Train accuracy: 0.982444, val accuracy: 0.738000\n",
      "Loss: 14.193125, Train accuracy: 0.983222, val accuracy: 0.750000\n",
      "Loss: 15.006901, Train accuracy: 0.984111, val accuracy: 0.750000\n",
      "Loss: 10.483587, Train accuracy: 0.989444, val accuracy: 0.736000\n",
      "Loss: 9.878886, Train accuracy: 0.988889, val accuracy: 0.737000\n",
      "Loss: 10.928642, Train accuracy: 0.979222, val accuracy: 0.751000\n",
      "Loss: 18.614121, Train accuracy: 0.959333, val accuracy: 0.729000\n",
      "Loss: 29.100746, Train accuracy: 0.961333, val accuracy: 0.729000\n",
      "Loss: 11.309012, Train accuracy: 0.941889, val accuracy: 0.702000\n",
      "Loss: 12.662985, Train accuracy: 0.962000, val accuracy: 0.724000\n",
      "Loss: 13.633816, Train accuracy: 0.955333, val accuracy: 0.726000\n",
      "Loss: 13.169789, Train accuracy: 0.975778, val accuracy: 0.743000\n",
      "Loss: 11.603420, Train accuracy: 0.971889, val accuracy: 0.729000\n",
      "Loss: 10.443750, Train accuracy: 0.967556, val accuracy: 0.736000\n",
      "Loss: 11.297548, Train accuracy: 0.958667, val accuracy: 0.709000\n",
      "Loss: 11.789631, Train accuracy: 0.971444, val accuracy: 0.725000\n",
      "Loss: 11.710711, Train accuracy: 0.966000, val accuracy: 0.726000\n",
      "Loss: 24.763673, Train accuracy: 0.981667, val accuracy: 0.739000\n",
      "Loss: 11.094803, Train accuracy: 0.984556, val accuracy: 0.752000\n",
      "Loss: 10.141085, Train accuracy: 0.986556, val accuracy: 0.747000\n",
      "Loss: 10.265128, Train accuracy: 0.986778, val accuracy: 0.741000\n",
      "Loss: 12.623555, Train accuracy: 0.980222, val accuracy: 0.727000\n",
      "Loss: 10.200423, Train accuracy: 0.978333, val accuracy: 0.725000\n",
      "Loss: 33.231145, Train accuracy: 0.974556, val accuracy: 0.727000\n",
      "Loss: 14.927818, Train accuracy: 0.957111, val accuracy: 0.729000\n",
      "Loss: 26.608087, Train accuracy: 0.959333, val accuracy: 0.733000\n",
      "Loss: 22.985619, Train accuracy: 0.889222, val accuracy: 0.702000\n",
      "Loss: 12.948965, Train accuracy: 0.923333, val accuracy: 0.697000\n",
      "Loss: 25.870332, Train accuracy: 0.933889, val accuracy: 0.713000\n",
      "Loss: 39.703778, Train accuracy: 0.951222, val accuracy: 0.729000\n",
      "Loss: 13.222149, Train accuracy: 0.954889, val accuracy: 0.725000\n",
      "Loss: 38.970165, Train accuracy: 0.966222, val accuracy: 0.732000\n",
      "Loss: 16.996709, Train accuracy: 0.969778, val accuracy: 0.733000\n",
      "Loss: 13.953002, Train accuracy: 0.983778, val accuracy: 0.742000\n",
      "Loss: 13.163827, Train accuracy: 0.990111, val accuracy: 0.753000\n",
      "Loss: 10.817530, Train accuracy: 0.979444, val accuracy: 0.726000\n",
      "Loss: 12.110769, Train accuracy: 0.980111, val accuracy: 0.751000\n",
      "Loss: 11.539323, Train accuracy: 0.960556, val accuracy: 0.715000\n",
      "Loss: 12.744318, Train accuracy: 0.975556, val accuracy: 0.720000\n",
      "Loss: 11.386807, Train accuracy: 0.990667, val accuracy: 0.730000\n",
      "Loss: 10.935931, Train accuracy: 0.981667, val accuracy: 0.751000\n",
      "Loss: 20.045243, Train accuracy: 0.985444, val accuracy: 0.743000\n",
      "Loss: 12.782962, Train accuracy: 0.984778, val accuracy: 0.753000\n",
      "Loss: 12.580873, Train accuracy: 0.991556, val accuracy: 0.752000\n",
      "Loss: 11.687388, Train accuracy: 0.990667, val accuracy: 0.736000\n",
      "Loss: 11.214911, Train accuracy: 0.990556, val accuracy: 0.746000\n",
      "Loss: 11.301243, Train accuracy: 0.988111, val accuracy: 0.745000\n",
      "Loss: 11.536192, Train accuracy: 0.985778, val accuracy: 0.731000\n",
      "Loss: 11.020980, Train accuracy: 0.992556, val accuracy: 0.733000\n",
      "Loss: 11.397757, Train accuracy: 0.996667, val accuracy: 0.735000\n",
      "Loss: 11.500054, Train accuracy: 0.994111, val accuracy: 0.747000\n",
      "Loss: 13.169689, Train accuracy: 0.992444, val accuracy: 0.745000\n",
      "Loss: 11.198770, Train accuracy: 0.996000, val accuracy: 0.747000\n",
      "Loss: 11.142851, Train accuracy: 0.998222, val accuracy: 0.754000\n",
      "Loss: 11.049328, Train accuracy: 0.999222, val accuracy: 0.756000\n",
      "Loss: 11.139151, Train accuracy: 0.998889, val accuracy: 0.751000\n",
      "Loss: 11.055954, Train accuracy: 0.999333, val accuracy: 0.752000\n",
      "Loss: 11.172995, Train accuracy: 0.998444, val accuracy: 0.749000\n",
      "Loss: 11.156427, Train accuracy: 0.999222, val accuracy: 0.752000\n",
      "Loss: 11.229472, Train accuracy: 0.999667, val accuracy: 0.754000\n",
      "Loss: 11.002458, Train accuracy: 0.999667, val accuracy: 0.753000\n",
      "Loss: 10.988944, Train accuracy: 0.999667, val accuracy: 0.750000\n",
      "Loss: 11.893991, Train accuracy: 0.999556, val accuracy: 0.756000\n",
      "Loss: 11.029787, Train accuracy: 0.999778, val accuracy: 0.751000\n",
      "Loss: 11.055331, Train accuracy: 0.999778, val accuracy: 0.753000\n",
      "Loss: 11.022735, Train accuracy: 0.999778, val accuracy: 0.754000\n",
      "Loss: 10.934818, Train accuracy: 0.999778, val accuracy: 0.752000\n",
      "Loss: 10.888932, Train accuracy: 0.999778, val accuracy: 0.758000\n"
     ]
    }
   ],
   "source": [
    "# Let's train the best one-hidden-layer network we can\n",
    "\n",
    "learning_rates = 0.001\n",
    "reg_strength = 1e-3\n",
    "learning_rate_decay = 0.999\n",
    "hidden_layer_size = 128\n",
    "num_epochs = 200\n",
    "batch_size = 256\n",
    "\n",
    "best_classifier = None\n",
    "best_val_accuracy = None\n",
    "\n",
    "loss_history = []\n",
    "train_history = []\n",
    "val_history = []\n",
    "\n",
    "# TODO find the best hyperparameters to train the network\n",
    "# Don't hesitate to add new values to the arrays above, perform experiments, use any tricks you want\n",
    "# You should expect to get to at least 40% of valudation accuracy\n",
    "# Save loss/train/history of the best classifier to the variables above\n",
    "\n",
    "model = TwoLayerNet(n_input = train_X.shape[1], n_output = 10, hidden_layer_size = hidden_layer_size, reg = reg_strength)\n",
    "dataset = Dataset(train_X, train_y, val_X, val_y)\n",
    "trainer = Trainer(model, dataset, MomentumSGD(), learning_rate = learning_rates, learning_rate_decay = learning_rate_decay,\n",
    "                  num_epochs = num_epochs, batch_size=batch_size)\n",
    "\n",
    "loss_history, train_history, val_history = trainer.fit()\n",
    "\n",
    "#print('best validation accuracy achieved: %f' % best_val_accuracy)"
   ]
  },
  {
   "cell_type": "code",
   "execution_count": 13,
   "metadata": {},
   "outputs": [],
   "source": [
    "best_classifier = model"
   ]
  },
  {
   "cell_type": "code",
   "execution_count": 14,
   "metadata": {},
   "outputs": [
    {
     "data": {
      "text/plain": [
       "[<matplotlib.lines.Line2D at 0x1fb2ae05848>]"
      ]
     },
     "execution_count": 14,
     "metadata": {},
     "output_type": "execute_result"
    },
    {
     "data": {
      "image/png": "[encoded data removed]",
      "text/plain": [
       "<Figure size 1080x504 with 2 Axes>"
      ]
     },
     "metadata": {
      "needs_background": "light"
     },
     "output_type": "display_data"
    }
   ],
   "source": [
    "plt.figure(figsize=(15, 7))\n",
    "plt.subplot(211)\n",
    "plt.title(\"Loss\")\n",
    "plt.plot(loss_history)\n",
    "plt.subplot(212)\n",
    "plt.title(\"Train/validation accuracy\")\n",
    "plt.plot(train_history)\n",
    "plt.plot(val_history)"
   ]
  },
  {
   "cell_type": "markdown",
   "metadata": {},
   "source": [
    "# Как обычно, посмотрим, как наша лучшая модель работает на тестовых данных"
   ]
  },
  {
   "cell_type": "code",
   "execution_count": 18,
   "metadata": {
    "scrolled": true
   },
   "outputs": [
    {
     "name": "stdout",
     "output_type": "stream",
     "text": [
      "Neural net test set accuracy: 0.746000\n"
     ]
    }
   ],
   "source": [
    "test_pred = best_classifier.predict(test_X)\n",
    "test_accuracy = multiclass_accuracy(test_pred, test_y)\n",
    "print('Neural net test set accuracy: %f' % (test_accuracy, ))"
   ]
  }
 ],
 "metadata": {
  "kernelspec": {
   "display_name": "Python 3",
   "language": "python",
   "name": "python3"
  },
  "language_info": {
   "codemirror_mode": {
    "name": "ipython",
    "version": 3
   },
   "file_extension": ".py",
   "mimetype": "text/x-python",
   "name": "python",
   "nbconvert_exporter": "python",
   "pygments_lexer": "ipython3",
   "version": "3.7.6"
  }
 },
 "nbformat": 4,
 "nbformat_minor": 2
}
