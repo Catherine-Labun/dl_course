{
 "cells": [
  {
   "cell_type": "markdown",
   "metadata": {},
   "source": [
    "# Задание 2.1 - Нейронные сети\n",
    "\n",
    "В этом задании вы реализуете и натренируете настоящую нейроную сеть своими руками!\n",
    "\n",
    "В некотором смысле это будет расширением прошлого задания - нам нужно просто составить несколько линейных классификаторов вместе!\n",
    "\n",
    "<img src=\"https://i.redd.it/n9fgba8b0qr01.png\" alt=\"Stack_more_layers\" width=\"400px\"/>"
   ]
  },
  {
   "cell_type": "code",
   "execution_count": 16,
   "metadata": {},
   "outputs": [
    {
     "name": "stdout",
     "output_type": "stream",
     "text": [
      "The autoreload extension is already loaded. To reload it, use:\n",
      "  %reload_ext autoreload\n"
     ]
    }
   ],
   "source": [
    "import numpy as np\n",
    "import matplotlib.pyplot as plt\n",
    "\n",
    "%matplotlib inline\n",
    "\n",
    "%load_ext autoreload\n",
    "%autoreload 2"
   ]
  },
  {
   "cell_type": "code",
   "execution_count": 2,
   "metadata": {},
   "outputs": [],
   "source": [
    "import torch\n",
    "import torch.nn as nn\n",
    "import torch.optim as optim\n",
    "import torchvision.datasets as dset\n",
    "from torch.utils.data.sampler import SubsetRandomSampler, Sampler\n",
    "\n",
    "from torchvision import transforms"
   ]
  },
  {
   "cell_type": "code",
   "execution_count": 3,
   "metadata": {},
   "outputs": [],
   "source": [
    "from dataset import load_svhn, random_split_train_val\n",
    "from gradient_check import check_layer_gradient, check_layer_param_gradient, check_model_gradient\n",
    "from layers import FullyConnectedLayer, ReLULayer\n",
    "from model import TwoLayerNet\n",
    "from trainer import Trainer, Dataset\n",
    "from optim import SGD, MomentumSGD\n",
    "from metrics import multiclass_accuracy"
   ]
  },
  {
   "cell_type": "markdown",
   "metadata": {},
   "source": [
    "# Загружаем данные\n",
    "\n",
    "И разделяем их на training и validation."
   ]
  },
  {
   "cell_type": "code",
   "execution_count": 4,
   "metadata": {},
   "outputs": [],
   "source": [
    "def prepare_for_neural_network(train_X, test_X):\n",
    "    train_flat = train_X.reshape(train_X.shape[0], -1).astype(np.float) / 255.0\n",
    "    test_flat = test_X.reshape(test_X.shape[0], -1).astype(np.float) / 255.0\n",
    "    \n",
    "    # Subtract mean\n",
    "    mean_image = np.mean(train_flat, axis = 0)\n",
    "    train_flat -= mean_image\n",
    "    test_flat -= mean_image\n",
    "    \n",
    "    return train_flat, test_flat\n",
    "    \n",
    "train_X, train_y, test_X, test_y = load_svhn(\"data\", max_train=10000, max_test=1000)    \n",
    "train_X, test_X = prepare_for_neural_network(train_X, test_X)\n",
    "# Split train into train and val\n",
    "train_X, train_y, val_X, val_y = random_split_train_val(train_X, train_y, num_val = 1000)"
   ]
  },
  {
   "cell_type": "markdown",
   "metadata": {},
   "source": [
    "# Как всегда, начинаем с кирпичиков\n",
    "\n",
    "Мы будем реализовывать необходимые нам слои по очереди. Каждый слой должен реализовать:\n",
    "- прямой проход (forward pass), который генерирует выход слоя по входу и запоминает необходимые данные\n",
    "- обратный проход (backward pass), который получает градиент по выходу слоя и вычисляет градиент по входу и по параметрам\n",
    "\n",
    "Начнем с ReLU, у которого параметров нет."
   ]
  },
  {
   "cell_type": "code",
   "execution_count": 4,
   "metadata": {
    "scrolled": false
   },
   "outputs": [
    {
     "name": "stdout",
     "output_type": "stream",
     "text": [
      "Gradient check passed!\n"
     ]
    }
   ],
   "source": [
    "# TODO: Implement ReLULayer layer in layers.py\n",
    "# Note: you'll need to copy implementation of the gradient_check function from the previous assignment\n",
    "\n",
    "X = np.array([[1,-2,3],\n",
    "              [-1, 2, 0.1],\n",
    "              [1, -2, 3]])\n",
    "\n",
    "assert check_layer_gradient(ReLULayer(), X)"
   ]
  },
  {
   "cell_type": "markdown",
   "metadata": {},
   "source": [
    "А теперь реализуем полносвязный слой (fully connected layer), у которого будет два массива параметров: W (weights) и B (bias).\n",
    "\n",
    "Все параметры наши слои будут использовать для параметров специальный класс `Param`, в котором будут храниться значения параметров и градиенты этих параметров, вычисляемые во время обратного прохода.\n",
    "\n",
    "Это даст возможность аккумулировать (суммировать) градиенты из разных частей функции потерь, например, из cross-entropy loss и regularization loss."
   ]
  },
  {
   "cell_type": "code",
   "execution_count": 5,
   "metadata": {},
   "outputs": [
    {
     "name": "stdout",
     "output_type": "stream",
     "text": [
      "Gradient check passed!\n",
      "Gradient check passed!\n",
      "Gradient check passed!\n"
     ]
    }
   ],
   "source": [
    "# TODO: Implement FullyConnected layer forward and backward methods\n",
    "assert check_layer_gradient(FullyConnectedLayer(3, 4), X)\n",
    "# TODO: Implement storing gradients for W and B\n",
    "assert check_layer_param_gradient(FullyConnectedLayer(3, 4), X, 'W')\n",
    "assert check_layer_param_gradient(FullyConnectedLayer(3, 4), X, 'B')"
   ]
  },
  {
   "cell_type": "markdown",
   "metadata": {},
   "source": [
    "## Создаем нейронную сеть\n",
    "\n",
    "Теперь мы реализуем простейшую нейронную сеть с двумя полносвязным слоями и нелинейностью ReLU. Реализуйте функцию `compute_loss_and_gradients`, она должна запустить прямой и обратный проход через оба слоя для вычисления градиентов.\n",
    "\n",
    "Не забудьте реализовать очистку градиентов в начале функции."
   ]
  },
  {
   "cell_type": "code",
   "execution_count": 6,
   "metadata": {},
   "outputs": [
    {
     "name": "stdout",
     "output_type": "stream",
     "text": [
      "Checking gradient for W1\n",
      "Gradient check passed!\n",
      "Checking gradient for B1\n",
      "Gradient check passed!\n",
      "Checking gradient for W2\n",
      "Gradient check passed!\n",
      "Checking gradient for B2\n",
      "Gradient check passed!\n"
     ]
    },
    {
     "data": {
      "text/plain": [
       "True"
      ]
     },
     "execution_count": 6,
     "metadata": {},
     "output_type": "execute_result"
    }
   ],
   "source": [
    "# TODO: In model.py, implement compute_loss_and_gradients function\n",
    "model = TwoLayerNet(n_input = train_X.shape[1], n_output = 10, hidden_layer_size = 3, reg = 0)\n",
    "loss = model.compute_loss_and_gradients(train_X[:2], train_y[:2])\n",
    "\n",
    "# TODO Now implement backward pass and aggregate all of the params\n",
    "check_model_gradient(model, train_X[:2], train_y[:2])"
   ]
  },
  {
   "cell_type": "markdown",
   "metadata": {},
   "source": [
    "Теперь добавьте к модели регуляризацию - она должна прибавляться к loss и делать свой вклад в градиенты."
   ]
  },
  {
   "cell_type": "code",
   "execution_count": null,
   "metadata": {},
   "outputs": [],
   "source": [
    "# TODO Now implement l2 regularization in the forward and backward pass\n",
    "model_with_reg = TwoLayerNet(n_input = train_X.shape[1], n_output = 10, hidden_layer_size = 3, reg = 1e1)\n",
    "loss_with_reg = model_with_reg.compute_loss_and_gradients(train_X[:5], train_y[:5])\n",
    "assert loss_with_reg > loss and not np.isclose(loss_with_reg, loss), \\\n",
    "    \"Loss with regularization (%2.4f) should be higher than without it (%2.4f)!\" % (loss, loss_with_reg)\n",
    "\n",
    "check_model_gradient(model_with_reg, train_X[:5], train_y[:5])"
   ]
  },
  {
   "cell_type": "markdown",
   "metadata": {},
   "source": [
    "Также реализуем функцию предсказания (вычисления значения) модели на новых данных.\n",
    "\n",
    "Какое значение точности мы ожидаем увидеть до начала тренировки?"
   ]
  },
  {
   "cell_type": "code",
   "execution_count": null,
   "metadata": {},
   "outputs": [],
   "source": [
    "# Finally, implement predict function!\n",
    "\n",
    "# TODO: Implement predict function\n",
    "# What would be the value we expect?\n",
    "multiclass_accuracy(model_with_reg.predict(train_X[:30]), train_y[:30]) "
   ]
  },
  {
   "cell_type": "markdown",
   "metadata": {},
   "source": [
    "# Допишем код для процесса тренировки\n",
    "\n",
    "Если все реализовано корректно, значение функции ошибки должно уменьшаться с каждой эпохой, пусть и медленно. Не беспокойтесь пока про validation accuracy."
   ]
  },
  {
   "cell_type": "code",
   "execution_count": 11,
   "metadata": {},
   "outputs": [
    {
     "name": "stdout",
     "output_type": "stream",
     "text": [
      "Loss: 2.226125, Train accuracy: 0.196667, val accuracy: 0.206000\n",
      "Loss: 2.205280, Train accuracy: 0.196667, val accuracy: 0.206000\n",
      "Loss: 2.323565, Train accuracy: 0.196667, val accuracy: 0.206000\n",
      "Loss: 2.123341, Train accuracy: 0.196667, val accuracy: 0.206000\n",
      "Loss: 2.224853, Train accuracy: 0.196667, val accuracy: 0.206000\n",
      "Loss: 2.296457, Train accuracy: 0.196667, val accuracy: 0.206000\n",
      "Loss: 2.019234, Train accuracy: 0.196667, val accuracy: 0.206000\n",
      "Loss: 2.218654, Train accuracy: 0.196667, val accuracy: 0.206000\n",
      "Loss: 2.218704, Train accuracy: 0.206333, val accuracy: 0.212000\n",
      "Loss: 2.174402, Train accuracy: 0.239222, val accuracy: 0.245000\n",
      "Loss: 1.993911, Train accuracy: 0.254111, val accuracy: 0.249000\n",
      "Loss: 1.963277, Train accuracy: 0.268889, val accuracy: 0.266000\n",
      "Loss: 1.964034, Train accuracy: 0.276889, val accuracy: 0.272000\n",
      "Loss: 1.958852, Train accuracy: 0.282556, val accuracy: 0.284000\n",
      "Loss: 1.796243, Train accuracy: 0.330778, val accuracy: 0.336000\n",
      "Loss: 1.816559, Train accuracy: 0.366667, val accuracy: 0.360000\n",
      "Loss: 1.756264, Train accuracy: 0.398111, val accuracy: 0.388000\n",
      "Loss: 1.730782, Train accuracy: 0.414111, val accuracy: 0.410000\n",
      "Loss: 1.676435, Train accuracy: 0.444667, val accuracy: 0.430000\n",
      "Loss: 1.526289, Train accuracy: 0.468111, val accuracy: 0.448000\n"
     ]
    }
   ],
   "source": [
    "model = TwoLayerNet(n_input = train_X.shape[1], n_output = 10, hidden_layer_size = 100, reg = 1e-3)\n",
    "dataset = Dataset(train_X, train_y, val_X, val_y)\n",
    "trainer = Trainer(model, dataset, SGD(), learning_rate = 1e-2)\n",
    "\n",
    "# TODO Implement missing pieces in Trainer.fit function\n",
    "# You should expect loss to go down every epoch, even if it's slow\n",
    "loss_history, train_history, val_history = trainer.fit()"
   ]
  },
  {
   "cell_type": "code",
   "execution_count": 12,
   "metadata": {},
   "outputs": [
    {
     "data": {
      "text/plain": [
       "[<matplotlib.lines.Line2D at 0x1fb13f4b248>]"
      ]
     },
     "execution_count": 12,
     "metadata": {},
     "output_type": "execute_result"
    },
    {
     "data": {
      "image/png": "[encoded data removed]",
      "text/plain": [
       "<Figure size 432x288 with 1 Axes>"
      ]
     },
     "metadata": {
      "needs_background": "light"
     },
     "output_type": "display_data"
    }
   ],
   "source": [
    "plt.plot(train_history)\n",
    "plt.plot(val_history)"
   ]
  },
  {
   "cell_type": "markdown",
   "metadata": {},
   "source": [
    "# Улучшаем процесс тренировки\n",
    "\n",
    "Мы реализуем несколько ключевых оптимизаций, необходимых для тренировки современных нейросетей."
   ]
  },
  {
   "cell_type": "markdown",
   "metadata": {},
   "source": [
    "## Уменьшение скорости обучения (learning rate decay)\n",
    "\n",
    "Одна из необходимых оптимизаций во время тренировки нейронных сетей - постепенное уменьшение скорости обучения по мере тренировки.\n",
    "\n",
    "Один из стандартных методов - уменьшение скорости обучения (learning rate) каждые N эпох на коэффициент d (часто называемый decay). Значения N и d, как всегда, являются гиперпараметрами и должны подбираться на основе эффективности на проверочных данных (validation data). \n",
    "\n",
    "В нашем случае N будет равным 1."
   ]
  },
  {
   "cell_type": "code",
   "execution_count": 15,
   "metadata": {},
   "outputs": [
    {
     "name": "stdout",
     "output_type": "stream",
     "text": [
      "Loss: 2.190551, Train accuracy: 0.196667, val accuracy: 0.206000\n",
      "Loss: 2.370391, Train accuracy: 0.196667, val accuracy: 0.206000\n",
      "Loss: 2.244266, Train accuracy: 0.196667, val accuracy: 0.206000\n",
      "Loss: 2.150608, Train accuracy: 0.196667, val accuracy: 0.206000\n",
      "Loss: 2.154511, Train accuracy: 0.196667, val accuracy: 0.206000\n",
      "Loss: 2.232421, Train accuracy: 0.196667, val accuracy: 0.206000\n",
      "Loss: 2.166779, Train accuracy: 0.196667, val accuracy: 0.206000\n",
      "Loss: 2.045176, Train accuracy: 0.196667, val accuracy: 0.206000\n",
      "Loss: 2.214703, Train accuracy: 0.204556, val accuracy: 0.214000\n",
      "Loss: 2.044396, Train accuracy: 0.231889, val accuracy: 0.236000\n",
      "Loss: 2.118654, Train accuracy: 0.256222, val accuracy: 0.254000\n",
      "Loss: 1.991909, Train accuracy: 0.264222, val accuracy: 0.263000\n",
      "Loss: 2.063617, Train accuracy: 0.277889, val accuracy: 0.277000\n",
      "Loss: 2.078456, Train accuracy: 0.289111, val accuracy: 0.285000\n",
      "Loss: 1.963585, Train accuracy: 0.332889, val accuracy: 0.335000\n",
      "Loss: 1.787479, Train accuracy: 0.363556, val accuracy: 0.360000\n",
      "Loss: 1.555048, Train accuracy: 0.394222, val accuracy: 0.375000\n",
      "Loss: 1.876295, Train accuracy: 0.417889, val accuracy: 0.403000\n",
      "Loss: 1.887572, Train accuracy: 0.427222, val accuracy: 0.425000\n",
      "Loss: 1.693698, Train accuracy: 0.455000, val accuracy: 0.447000\n"
     ]
    }
   ],
   "source": [
    "# TODO Implement learning rate decay inside Trainer.fit method\n",
    "# Decay should happen once per epoch\n",
    "\n",
    "model = TwoLayerNet(n_input = train_X.shape[1], n_output = 10, hidden_layer_size = 100, reg = 1e-3)\n",
    "dataset = Dataset(train_X, train_y, val_X, val_y)\n",
    "trainer = Trainer(model, dataset, SGD(), learning_rate = 1e-2, learning_rate_decay=0.99)\n",
    "\n",
    "initial_learning_rate = trainer.learning_rate\n",
    "loss_history, train_history, val_history = trainer.fit()\n",
    "\n",
    "assert trainer.learning_rate < initial_learning_rate, \"Learning rate should've been reduced\"\n",
    "assert trainer.learning_rate > 0.5*initial_learning_rate, \"Learning rate shouldn'tve been reduced that much!\""
   ]
  },
  {
   "cell_type": "markdown",
   "metadata": {},
   "source": [
    "# Накопление импульса (Momentum SGD)\n",
    "\n",
    "Другой большой класс оптимизаций - использование более эффективных методов градиентного спуска. Мы реализуем один из них - накопление импульса (Momentum SGD).\n",
    "\n",
    "Этот метод хранит скорость движения, использует градиент для ее изменения на каждом шаге, и изменяет веса пропорционально значению скорости.\n",
    "(Физическая аналогия: Вместо скорости градиенты теперь будут задавать ускорение, но будет присутствовать сила трения.)\n",
    "\n",
    "```\n",
    "velocity = momentum * velocity - learning_rate * gradient \n",
    "w = w + velocity\n",
    "```\n",
    "\n",
    "`momentum` здесь коэффициент затухания, который тоже является гиперпараметром (к счастью, для него часто есть хорошее значение по умолчанию, типичный диапазон -- 0.8-0.99).\n",
    "\n",
    "Несколько полезных ссылок, где метод разбирается более подробно:  \n",
    "http://cs231n.github.io/neural-networks-3/#sgd  \n",
    "https://distill.pub/2017/momentum/"
   ]
  },
  {
   "cell_type": "code",
   "execution_count": 17,
   "metadata": {},
   "outputs": [
    {
     "name": "stdout",
     "output_type": "stream",
     "text": [
      "Loss: 2.299315, Train accuracy: 0.196667, val accuracy: 0.206000\n",
      "Loss: 2.278028, Train accuracy: 0.196667, val accuracy: 0.206000\n",
      "Loss: 2.293018, Train accuracy: 0.196667, val accuracy: 0.206000\n",
      "Loss: 2.246114, Train accuracy: 0.196667, val accuracy: 0.206000\n",
      "Loss: 2.281468, Train accuracy: 0.196667, val accuracy: 0.206000\n",
      "Loss: 2.266762, Train accuracy: 0.196667, val accuracy: 0.206000\n",
      "Loss: 2.234638, Train accuracy: 0.196667, val accuracy: 0.206000\n",
      "Loss: 2.267515, Train accuracy: 0.196667, val accuracy: 0.206000\n",
      "Loss: 2.297086, Train accuracy: 0.196667, val accuracy: 0.206000\n",
      "Loss: 2.261969, Train accuracy: 0.196667, val accuracy: 0.206000\n",
      "Loss: 2.275399, Train accuracy: 0.196667, val accuracy: 0.206000\n",
      "Loss: 2.228098, Train accuracy: 0.196667, val accuracy: 0.206000\n",
      "Loss: 2.277722, Train accuracy: 0.196667, val accuracy: 0.206000\n",
      "Loss: 2.309300, Train accuracy: 0.196667, val accuracy: 0.206000\n",
      "Loss: 2.277368, Train accuracy: 0.196667, val accuracy: 0.206000\n",
      "Loss: 2.305308, Train accuracy: 0.196667, val accuracy: 0.206000\n",
      "Loss: 2.272417, Train accuracy: 0.196667, val accuracy: 0.206000\n",
      "Loss: 2.181918, Train accuracy: 0.196667, val accuracy: 0.206000\n",
      "Loss: 2.291148, Train accuracy: 0.196667, val accuracy: 0.206000\n",
      "Loss: 2.117211, Train accuracy: 0.196667, val accuracy: 0.206000\n"
     ]
    }
   ],
   "source": [
    "# TODO: Implement MomentumSGD.update function in optim.py\n",
    "\n",
    "model = TwoLayerNet(n_input = train_X.shape[1], n_output = 10, hidden_layer_size = 100, reg = 1e-3)\n",
    "dataset = Dataset(train_X, train_y, val_X, val_y)\n",
    "trainer = Trainer(model, dataset, MomentumSGD(), learning_rate=1e-4, learning_rate_decay=0.99)\n",
    "\n",
    "# You should see even better results than before!\n",
    "loss_history, train_history, val_history = trainer.fit()"
   ]
  },
  {
   "cell_type": "markdown",
   "metadata": {},
   "source": [
    "# Ну что, давайте уже тренировать сеть!"
   ]
  },
  {
   "cell_type": "markdown",
   "metadata": {},
   "source": [
    "## Последний тест - переобучимся (overfit) на маленьком наборе данных\n",
    "\n",
    "Хороший способ проверить, все ли реализовано корректно - переобучить сеть на маленьком наборе данных.  \n",
    "Наша модель обладает достаточной мощностью, чтобы приблизить маленький набор данных идеально, поэтому мы ожидаем, что на нем мы быстро дойдем до 100% точности на тренировочном наборе. \n",
    "\n",
    "Если этого не происходит, то где-то была допущена ошибка!"
   ]
  },
  {
   "cell_type": "code",
   "execution_count": 18,
   "metadata": {},
   "outputs": [
    {
     "name": "stdout",
     "output_type": "stream",
     "text": [
      "Loss: 2.334465, Train accuracy: 0.200000, val accuracy: 0.133333\n",
      "Loss: 2.327193, Train accuracy: 0.200000, val accuracy: 0.133333\n",
      "Loss: 2.301045, Train accuracy: 0.266667, val accuracy: 0.000000\n",
      "Loss: 2.281082, Train accuracy: 0.266667, val accuracy: 0.000000\n",
      "Loss: 2.311843, Train accuracy: 0.266667, val accuracy: 0.000000\n",
      "Loss: 2.273265, Train accuracy: 0.266667, val accuracy: 0.000000\n",
      "Loss: 2.268819, Train accuracy: 0.266667, val accuracy: 0.000000\n",
      "Loss: 2.243616, Train accuracy: 0.266667, val accuracy: 0.000000\n",
      "Loss: 2.212455, Train accuracy: 0.400000, val accuracy: 0.000000\n",
      "Loss: 1.964681, Train accuracy: 0.400000, val accuracy: 0.000000\n",
      "Loss: 2.054296, Train accuracy: 0.400000, val accuracy: 0.000000\n",
      "Loss: 1.695140, Train accuracy: 0.400000, val accuracy: 0.000000\n",
      "Loss: 2.023193, Train accuracy: 0.400000, val accuracy: 0.000000\n",
      "Loss: 1.723346, Train accuracy: 0.333333, val accuracy: 0.000000\n",
      "Loss: 2.225030, Train accuracy: 0.333333, val accuracy: 0.000000\n",
      "Loss: 1.852488, Train accuracy: 0.333333, val accuracy: 0.000000\n",
      "Loss: 1.818120, Train accuracy: 0.333333, val accuracy: 0.000000\n",
      "Loss: 1.797909, Train accuracy: 0.333333, val accuracy: 0.000000\n",
      "Loss: 1.761170, Train accuracy: 0.400000, val accuracy: 0.000000\n",
      "Loss: 2.295354, Train accuracy: 0.400000, val accuracy: 0.000000\n",
      "Loss: 1.734732, Train accuracy: 0.400000, val accuracy: 0.000000\n",
      "Loss: 1.968858, Train accuracy: 0.466667, val accuracy: 0.000000\n",
      "Loss: 1.952416, Train accuracy: 0.466667, val accuracy: 0.000000\n",
      "Loss: 1.432232, Train accuracy: 0.466667, val accuracy: 0.000000\n",
      "Loss: 1.457687, Train accuracy: 0.466667, val accuracy: 0.066667\n",
      "Loss: 2.035145, Train accuracy: 0.466667, val accuracy: 0.066667\n",
      "Loss: 1.719283, Train accuracy: 0.466667, val accuracy: 0.000000\n",
      "Loss: 2.445595, Train accuracy: 0.466667, val accuracy: 0.000000\n",
      "Loss: 1.660489, Train accuracy: 0.466667, val accuracy: 0.066667\n",
      "Loss: 1.606382, Train accuracy: 0.466667, val accuracy: 0.000000\n",
      "Loss: 1.287192, Train accuracy: 0.533333, val accuracy: 0.000000\n",
      "Loss: 1.805711, Train accuracy: 0.466667, val accuracy: 0.066667\n",
      "Loss: 1.550651, Train accuracy: 0.466667, val accuracy: 0.066667\n",
      "Loss: 1.486419, Train accuracy: 0.600000, val accuracy: 0.066667\n",
      "Loss: 1.249547, Train accuracy: 0.600000, val accuracy: 0.066667\n",
      "Loss: 1.997179, Train accuracy: 0.600000, val accuracy: 0.066667\n",
      "Loss: 1.490252, Train accuracy: 0.600000, val accuracy: 0.066667\n",
      "Loss: 2.039351, Train accuracy: 0.600000, val accuracy: 0.066667\n",
      "Loss: 0.859909, Train accuracy: 0.666667, val accuracy: 0.066667\n",
      "Loss: 1.193265, Train accuracy: 0.666667, val accuracy: 0.066667\n",
      "Loss: 1.632240, Train accuracy: 0.666667, val accuracy: 0.066667\n",
      "Loss: 1.392340, Train accuracy: 0.666667, val accuracy: 0.066667\n",
      "Loss: 1.470509, Train accuracy: 0.666667, val accuracy: 0.066667\n",
      "Loss: 2.031045, Train accuracy: 0.666667, val accuracy: 0.066667\n",
      "Loss: 1.241771, Train accuracy: 0.666667, val accuracy: 0.000000\n",
      "Loss: 1.529709, Train accuracy: 0.666667, val accuracy: 0.066667\n",
      "Loss: 1.437170, Train accuracy: 0.666667, val accuracy: 0.066667\n",
      "Loss: 1.992508, Train accuracy: 0.600000, val accuracy: 0.066667\n",
      "Loss: 1.612851, Train accuracy: 0.733333, val accuracy: 0.133333\n",
      "Loss: 1.378023, Train accuracy: 0.733333, val accuracy: 0.066667\n",
      "Loss: 1.831847, Train accuracy: 0.733333, val accuracy: 0.066667\n",
      "Loss: 1.473726, Train accuracy: 0.733333, val accuracy: 0.066667\n",
      "Loss: 1.471622, Train accuracy: 0.733333, val accuracy: 0.133333\n",
      "Loss: 1.776907, Train accuracy: 0.733333, val accuracy: 0.133333\n",
      "Loss: 1.662326, Train accuracy: 0.666667, val accuracy: 0.000000\n",
      "Loss: 1.786534, Train accuracy: 0.733333, val accuracy: 0.066667\n",
      "Loss: 1.257237, Train accuracy: 0.733333, val accuracy: 0.066667\n",
      "Loss: 1.282906, Train accuracy: 0.733333, val accuracy: 0.066667\n",
      "Loss: 1.483807, Train accuracy: 0.733333, val accuracy: 0.133333\n",
      "Loss: 1.809352, Train accuracy: 0.733333, val accuracy: 0.066667\n",
      "Loss: 1.743265, Train accuracy: 0.733333, val accuracy: 0.066667\n",
      "Loss: 1.680297, Train accuracy: 0.733333, val accuracy: 0.066667\n",
      "Loss: 1.630870, Train accuracy: 0.733333, val accuracy: 0.066667\n",
      "Loss: 0.968383, Train accuracy: 0.733333, val accuracy: 0.066667\n",
      "Loss: 1.625211, Train accuracy: 0.733333, val accuracy: 0.066667\n",
      "Loss: 0.992515, Train accuracy: 0.733333, val accuracy: 0.066667\n",
      "Loss: 1.213171, Train accuracy: 0.733333, val accuracy: 0.066667\n",
      "Loss: 1.161674, Train accuracy: 0.733333, val accuracy: 0.066667\n",
      "Loss: 1.432631, Train accuracy: 0.733333, val accuracy: 0.066667\n",
      "Loss: 1.233146, Train accuracy: 0.733333, val accuracy: 0.066667\n",
      "Loss: 0.987218, Train accuracy: 0.733333, val accuracy: 0.066667\n",
      "Loss: 1.214349, Train accuracy: 0.733333, val accuracy: 0.066667\n",
      "Loss: 1.548778, Train accuracy: 0.733333, val accuracy: 0.066667\n",
      "Loss: 1.663107, Train accuracy: 0.800000, val accuracy: 0.066667\n",
      "Loss: 1.199578, Train accuracy: 0.800000, val accuracy: 0.066667\n",
      "Loss: 1.711541, Train accuracy: 0.800000, val accuracy: 0.066667\n",
      "Loss: 1.941769, Train accuracy: 0.800000, val accuracy: 0.066667\n",
      "Loss: 1.304413, Train accuracy: 0.800000, val accuracy: 0.066667\n",
      "Loss: 1.060027, Train accuracy: 0.800000, val accuracy: 0.066667\n",
      "Loss: 0.933902, Train accuracy: 0.800000, val accuracy: 0.066667\n",
      "Loss: 1.688740, Train accuracy: 0.800000, val accuracy: 0.066667\n",
      "Loss: 1.618307, Train accuracy: 0.800000, val accuracy: 0.066667\n",
      "Loss: 1.607125, Train accuracy: 0.800000, val accuracy: 0.066667\n",
      "Loss: 1.165852, Train accuracy: 0.800000, val accuracy: 0.066667\n",
      "Loss: 1.554466, Train accuracy: 0.800000, val accuracy: 0.066667\n",
      "Loss: 1.620399, Train accuracy: 0.800000, val accuracy: 0.066667\n",
      "Loss: 1.590014, Train accuracy: 0.800000, val accuracy: 0.066667\n",
      "Loss: 1.074256, Train accuracy: 0.800000, val accuracy: 0.066667\n",
      "Loss: 1.418010, Train accuracy: 0.800000, val accuracy: 0.066667\n",
      "Loss: 1.265188, Train accuracy: 0.866667, val accuracy: 0.066667\n",
      "Loss: 1.248813, Train accuracy: 0.866667, val accuracy: 0.066667\n",
      "Loss: 1.033228, Train accuracy: 0.866667, val accuracy: 0.066667\n",
      "Loss: 1.234442, Train accuracy: 0.866667, val accuracy: 0.066667\n",
      "Loss: 1.553977, Train accuracy: 0.866667, val accuracy: 0.066667\n",
      "Loss: 1.328318, Train accuracy: 0.866667, val accuracy: 0.066667\n",
      "Loss: 0.952722, Train accuracy: 0.866667, val accuracy: 0.066667\n",
      "Loss: 1.354718, Train accuracy: 0.866667, val accuracy: 0.066667\n",
      "Loss: 1.296185, Train accuracy: 0.933333, val accuracy: 0.066667\n",
      "Loss: 1.548810, Train accuracy: 0.933333, val accuracy: 0.066667\n",
      "Loss: 1.803371, Train accuracy: 0.933333, val accuracy: 0.066667\n",
      "Loss: 1.452776, Train accuracy: 0.933333, val accuracy: 0.066667\n",
      "Loss: 1.140498, Train accuracy: 0.933333, val accuracy: 0.066667\n",
      "Loss: 1.342630, Train accuracy: 0.933333, val accuracy: 0.066667\n",
      "Loss: 1.675162, Train accuracy: 1.000000, val accuracy: 0.066667\n",
      "Loss: 1.356693, Train accuracy: 1.000000, val accuracy: 0.066667\n",
      "Loss: 1.073252, Train accuracy: 0.933333, val accuracy: 0.066667\n",
      "Loss: 1.494113, Train accuracy: 0.933333, val accuracy: 0.000000\n",
      "Loss: 1.643045, Train accuracy: 0.933333, val accuracy: 0.000000\n",
      "Loss: 1.389890, Train accuracy: 1.000000, val accuracy: 0.000000\n",
      "Loss: 1.636989, Train accuracy: 0.933333, val accuracy: 0.000000\n",
      "Loss: 1.310570, Train accuracy: 1.000000, val accuracy: 0.000000\n",
      "Loss: 1.021876, Train accuracy: 0.933333, val accuracy: 0.000000\n",
      "Loss: 1.609780, Train accuracy: 1.000000, val accuracy: 0.000000\n",
      "Loss: 1.265544, Train accuracy: 0.933333, val accuracy: 0.000000\n",
      "Loss: 1.626118, Train accuracy: 1.000000, val accuracy: 0.000000\n",
      "Loss: 1.456926, Train accuracy: 1.000000, val accuracy: 0.000000\n",
      "Loss: 1.358148, Train accuracy: 1.000000, val accuracy: 0.000000\n",
      "Loss: 1.549455, Train accuracy: 1.000000, val accuracy: 0.000000\n",
      "Loss: 1.330060, Train accuracy: 1.000000, val accuracy: 0.000000\n",
      "Loss: 1.124151, Train accuracy: 1.000000, val accuracy: 0.000000\n",
      "Loss: 1.187984, Train accuracy: 1.000000, val accuracy: 0.000000\n",
      "Loss: 1.067396, Train accuracy: 1.000000, val accuracy: 0.000000\n",
      "Loss: 1.800420, Train accuracy: 1.000000, val accuracy: 0.000000\n",
      "Loss: 0.946894, Train accuracy: 1.000000, val accuracy: 0.000000\n",
      "Loss: 1.372303, Train accuracy: 1.000000, val accuracy: 0.000000\n",
      "Loss: 1.484882, Train accuracy: 1.000000, val accuracy: 0.000000\n",
      "Loss: 1.432919, Train accuracy: 1.000000, val accuracy: 0.000000\n",
      "Loss: 1.739882, Train accuracy: 1.000000, val accuracy: 0.000000\n",
      "Loss: 1.284747, Train accuracy: 1.000000, val accuracy: 0.000000\n",
      "Loss: 1.281767, Train accuracy: 1.000000, val accuracy: 0.000000\n"
     ]
    },
    {
     "name": "stdout",
     "output_type": "stream",
     "text": [
      "Loss: 1.228216, Train accuracy: 1.000000, val accuracy: 0.000000\n",
      "Loss: 1.267046, Train accuracy: 1.000000, val accuracy: 0.000000\n",
      "Loss: 1.043357, Train accuracy: 1.000000, val accuracy: 0.000000\n",
      "Loss: 1.237148, Train accuracy: 1.000000, val accuracy: 0.000000\n",
      "Loss: 1.267601, Train accuracy: 1.000000, val accuracy: 0.000000\n",
      "Loss: 1.411644, Train accuracy: 1.000000, val accuracy: 0.000000\n",
      "Loss: 1.271359, Train accuracy: 1.000000, val accuracy: 0.000000\n",
      "Loss: 1.186069, Train accuracy: 1.000000, val accuracy: 0.000000\n",
      "Loss: 1.507749, Train accuracy: 1.000000, val accuracy: 0.000000\n",
      "Loss: 1.203464, Train accuracy: 1.000000, val accuracy: 0.000000\n",
      "Loss: 1.185852, Train accuracy: 1.000000, val accuracy: 0.000000\n",
      "Loss: 1.303732, Train accuracy: 1.000000, val accuracy: 0.000000\n",
      "Loss: 1.324698, Train accuracy: 1.000000, val accuracy: 0.000000\n",
      "Loss: 1.123889, Train accuracy: 1.000000, val accuracy: 0.000000\n",
      "Loss: 1.219636, Train accuracy: 1.000000, val accuracy: 0.000000\n",
      "Loss: 1.335275, Train accuracy: 1.000000, val accuracy: 0.000000\n",
      "Loss: 1.173439, Train accuracy: 1.000000, val accuracy: 0.000000\n",
      "Loss: 1.314237, Train accuracy: 1.000000, val accuracy: 0.000000\n",
      "Loss: 1.339012, Train accuracy: 1.000000, val accuracy: 0.000000\n",
      "Loss: 1.118034, Train accuracy: 1.000000, val accuracy: 0.000000\n"
     ]
    }
   ],
   "source": [
    "data_size = 15\n",
    "model = TwoLayerNet(n_input = train_X.shape[1], n_output = 10, hidden_layer_size = 100, reg = 1e-1)\n",
    "dataset = Dataset(train_X[:data_size], train_y[:data_size], val_X[:data_size], val_y[:data_size])\n",
    "trainer = Trainer(model, dataset, SGD(), learning_rate=1e-1, num_epochs=150, batch_size=5)\n",
    "\n",
    "# You should expect this to reach 1.0 training accuracy \n",
    "loss_history, train_history, val_history = trainer.fit()"
   ]
  },
  {
   "cell_type": "markdown",
   "metadata": {},
   "source": [
    "Теперь найдем гипепараметры, для которых этот процесс сходится быстрее.\n",
    "Если все реализовано корректно, то существуют параметры, при которых процесс сходится в **20** эпох или еще быстрее.\n",
    "Найдите их!"
   ]
  },
  {
   "cell_type": "code",
   "execution_count": 46,
   "metadata": {},
   "outputs": [
    {
     "name": "stdout",
     "output_type": "stream",
     "text": [
      "Loss: 2.374455, Train accuracy: 0.200000, val accuracy: 0.133333\n",
      "Loss: 2.200391, Train accuracy: 0.200000, val accuracy: 0.133333\n",
      "Loss: 2.241799, Train accuracy: 0.333333, val accuracy: 0.066667\n",
      "Loss: 2.278784, Train accuracy: 0.400000, val accuracy: 0.000000\n",
      "Loss: 1.176164, Train accuracy: 0.333333, val accuracy: 0.000000\n",
      "Loss: 3.248931, Train accuracy: 0.200000, val accuracy: 0.133333\n",
      "Loss: 2.042971, Train accuracy: 0.333333, val accuracy: 0.133333\n",
      "Loss: 2.422929, Train accuracy: 0.466667, val accuracy: 0.000000\n",
      "Loss: 1.834378, Train accuracy: 0.533333, val accuracy: 0.000000\n",
      "Loss: 0.501597, Train accuracy: 0.533333, val accuracy: 0.000000\n",
      "Loss: 1.325345, Train accuracy: 0.466667, val accuracy: 0.000000\n",
      "Loss: 0.168748, Train accuracy: 0.466667, val accuracy: 0.000000\n",
      "Loss: 1.979882, Train accuracy: 0.733333, val accuracy: 0.000000\n",
      "Loss: 0.769823, Train accuracy: 0.800000, val accuracy: 0.133333\n",
      "Loss: 0.033236, Train accuracy: 0.800000, val accuracy: 0.133333\n",
      "Loss: 0.366908, Train accuracy: 0.866667, val accuracy: 0.066667\n",
      "Loss: 1.740945, Train accuracy: 1.000000, val accuracy: 0.066667\n",
      "Loss: 0.208775, Train accuracy: 0.933333, val accuracy: 0.066667\n",
      "Loss: 0.061635, Train accuracy: 0.933333, val accuracy: 0.066667\n",
      "Loss: 0.036388, Train accuracy: 1.000000, val accuracy: 0.066667\n"
     ]
    }
   ],
   "source": [
    "# Now, tweak some hyper parameters and make it train to 1.0 accuracy in 20 epochs or less\n",
    "\n",
    "model = TwoLayerNet(n_input = train_X.shape[1], n_output = 10, hidden_layer_size = 200, reg = 2e-3)\n",
    "dataset = Dataset(train_X[:data_size], train_y[:data_size], val_X[:data_size], val_y[:data_size])\n",
    "# TODO: Change any hyperparamers or optimizators to reach training accuracy in 20 epochs\n",
    "trainer = Trainer(model, dataset, SGD(), learning_rate=1e-1, num_epochs=20, batch_size=2)\n",
    "\n",
    "loss_history, train_history, val_history = trainer.fit()"
   ]
  },
  {
   "cell_type": "markdown",
   "metadata": {},
   "source": [
    "# Итак, основное мероприятие!\n",
    "\n",
    "Натренируйте лучшую нейросеть! Можно добавлять и изменять параметры, менять количество нейронов в слоях сети и как угодно экспериментировать. \n",
    "\n",
    "Добейтесь точности лучше **60%** на validation set."
   ]
  },
  {
   "cell_type": "code",
   "execution_count": 25,
   "metadata": {
    "scrolled": true
   },
   "outputs": [
    {
     "name": "stdout",
     "output_type": "stream",
     "text": [
      "Loss: 2.246042, Train accuracy: 0.160000, val accuracy: 0.230000\n",
      "Loss: 2.326456, Train accuracy: 0.160000, val accuracy: 0.230000\n",
      "Loss: 2.046861, Train accuracy: 0.170000, val accuracy: 0.140000\n",
      "Loss: 2.348859, Train accuracy: 0.180000, val accuracy: 0.180000\n",
      "Loss: 1.813285, Train accuracy: 0.180000, val accuracy: 0.210000\n",
      "Loss: 2.549756, Train accuracy: 0.270000, val accuracy: 0.150000\n",
      "Loss: 1.973400, Train accuracy: 0.390000, val accuracy: 0.170000\n",
      "Loss: 2.283201, Train accuracy: 0.470000, val accuracy: 0.180000\n",
      "Loss: 1.736427, Train accuracy: 0.360000, val accuracy: 0.140000\n",
      "Loss: 2.465635, Train accuracy: 0.580000, val accuracy: 0.110000\n",
      "Loss: 1.413163, Train accuracy: 0.520000, val accuracy: 0.170000\n",
      "Loss: 2.328990, Train accuracy: 0.600000, val accuracy: 0.180000\n",
      "Loss: 1.152070, Train accuracy: 0.520000, val accuracy: 0.070000\n",
      "Loss: 1.756652, Train accuracy: 0.780000, val accuracy: 0.110000\n",
      "Loss: 1.304474, Train accuracy: 0.600000, val accuracy: 0.140000\n",
      "Loss: 0.600548, Train accuracy: 0.610000, val accuracy: 0.160000\n",
      "Loss: 3.259709, Train accuracy: 0.550000, val accuracy: 0.090000\n",
      "Loss: 0.255070, Train accuracy: 0.660000, val accuracy: 0.180000\n",
      "Loss: 2.298804, Train accuracy: 0.540000, val accuracy: 0.080000\n",
      "Loss: 14.197041, Train accuracy: 0.530000, val accuracy: 0.150000\n",
      "Loss: 4.370413, Train accuracy: 0.660000, val accuracy: 0.160000\n",
      "Loss: 0.569133, Train accuracy: 0.520000, val accuracy: 0.100000\n",
      "Loss: 0.744471, Train accuracy: 0.480000, val accuracy: 0.080000\n",
      "Loss: 41.063218, Train accuracy: 0.570000, val accuracy: 0.190000\n",
      "Loss: 26.387861, Train accuracy: 0.640000, val accuracy: 0.140000\n",
      "Loss: 1.915001, Train accuracy: 0.590000, val accuracy: 0.080000\n",
      "Loss: 5.075905, Train accuracy: 0.590000, val accuracy: 0.120000\n",
      "Loss: 1.754857, Train accuracy: 0.490000, val accuracy: 0.180000\n",
      "Loss: 43.678163, Train accuracy: 0.360000, val accuracy: 0.120000\n",
      "Loss: 18.804689, Train accuracy: 0.590000, val accuracy: 0.140000\n",
      "Loss: 3.383010, Train accuracy: 0.600000, val accuracy: 0.170000\n",
      "Loss: 3.855479, Train accuracy: 0.370000, val accuracy: 0.150000\n",
      "Loss: 10.653269, Train accuracy: 0.450000, val accuracy: 0.110000\n"
     ]
    },
    {
     "name": "stderr",
     "output_type": "stream",
     "text": [
      "D:\\dlcourse\\dlcourse_ai\\assignments\\assignment2\\layers.py:20: RuntimeWarning: divide by zero encountered in log\n",
      "  loss = np.mean(-np.log(prob))\n"
     ]
    },
    {
     "name": "stdout",
     "output_type": "stream",
     "text": [
      "Loss: 33.595292, Train accuracy: 0.500000, val accuracy: 0.190000\n",
      "Loss: 6.471151, Train accuracy: 0.560000, val accuracy: 0.270000\n",
      "Loss: 34.909163, Train accuracy: 0.520000, val accuracy: 0.140000\n",
      "Loss: 229.285542, Train accuracy: 0.540000, val accuracy: 0.160000\n",
      "Loss: 287.498706, Train accuracy: 0.420000, val accuracy: 0.170000\n",
      "Loss: 18.210207, Train accuracy: 0.490000, val accuracy: 0.090000\n",
      "Loss: 266.771570, Train accuracy: 0.650000, val accuracy: 0.190000\n",
      "Loss: 63.286783, Train accuracy: 0.590000, val accuracy: 0.160000\n",
      "Loss: 178.915763, Train accuracy: 0.460000, val accuracy: 0.130000\n",
      "Loss: 509.402303, Train accuracy: 0.540000, val accuracy: 0.080000\n",
      "Loss: 163.683023, Train accuracy: 0.560000, val accuracy: 0.140000\n",
      "Loss: inf, Train accuracy: 0.400000, val accuracy: 0.160000\n",
      "Loss: inf, Train accuracy: 0.480000, val accuracy: 0.210000\n",
      "Loss: 49.371413, Train accuracy: 0.390000, val accuracy: 0.070000\n",
      "Loss: 60.066411, Train accuracy: 0.490000, val accuracy: 0.130000\n",
      "Loss: 200.819078, Train accuracy: 0.560000, val accuracy: 0.180000\n",
      "Loss: 87.695552, Train accuracy: 0.530000, val accuracy: 0.230000\n",
      "Loss: 101.516008, Train accuracy: 0.410000, val accuracy: 0.150000\n",
      "Loss: inf, Train accuracy: 0.570000, val accuracy: 0.150000\n",
      "Loss: inf, Train accuracy: 0.730000, val accuracy: 0.180000\n",
      "Loss: inf, Train accuracy: 0.570000, val accuracy: 0.130000\n",
      "Loss: inf, Train accuracy: 0.600000, val accuracy: 0.170000\n",
      "Loss: inf, Train accuracy: 0.600000, val accuracy: 0.180000\n",
      "Loss: inf, Train accuracy: 0.510000, val accuracy: 0.160000\n",
      "Loss: 527.873975, Train accuracy: 0.620000, val accuracy: 0.170000\n",
      "Loss: 396.696191, Train accuracy: 0.680000, val accuracy: 0.150000\n",
      "Loss: inf, Train accuracy: 0.460000, val accuracy: 0.150000\n",
      "Loss: inf, Train accuracy: 0.730000, val accuracy: 0.150000\n",
      "Loss: inf, Train accuracy: 0.580000, val accuracy: 0.170000\n",
      "Loss: inf, Train accuracy: 0.730000, val accuracy: 0.120000\n",
      "Loss: inf, Train accuracy: 0.530000, val accuracy: 0.160000\n",
      "Loss: 594.821292, Train accuracy: 0.640000, val accuracy: 0.180000\n",
      "Loss: 678.013084, Train accuracy: 0.620000, val accuracy: 0.200000\n",
      "Loss: 747.097012, Train accuracy: 0.740000, val accuracy: 0.210000\n",
      "Loss: inf, Train accuracy: 0.530000, val accuracy: 0.150000\n",
      "Loss: inf, Train accuracy: 0.390000, val accuracy: 0.130000\n",
      "Loss: inf, Train accuracy: 0.400000, val accuracy: 0.200000\n",
      "Loss: 1883.929557, Train accuracy: 0.380000, val accuracy: 0.180000\n",
      "Loss: inf, Train accuracy: 0.660000, val accuracy: 0.190000\n",
      "Loss: inf, Train accuracy: 0.600000, val accuracy: 0.120000\n",
      "Loss: 3112.898819, Train accuracy: 0.460000, val accuracy: 0.200000\n",
      "Loss: 3355.852068, Train accuracy: 0.710000, val accuracy: 0.180000\n",
      "Loss: inf, Train accuracy: 0.510000, val accuracy: 0.220000\n",
      "Loss: inf, Train accuracy: 0.700000, val accuracy: 0.170000\n",
      "Loss: 4669.928024, Train accuracy: 0.670000, val accuracy: 0.160000\n",
      "Loss: 4965.675822, Train accuracy: 0.620000, val accuracy: 0.190000\n",
      "Loss: 5869.857885, Train accuracy: 0.590000, val accuracy: 0.090000\n",
      "Loss: inf, Train accuracy: 0.540000, val accuracy: 0.150000\n",
      "Loss: inf, Train accuracy: 0.750000, val accuracy: 0.120000\n",
      "Loss: 8084.403597, Train accuracy: 0.680000, val accuracy: 0.130000\n",
      "Loss: 9203.854623, Train accuracy: 0.630000, val accuracy: 0.170000\n",
      "Loss: inf, Train accuracy: 0.670000, val accuracy: 0.170000\n",
      "Loss: inf, Train accuracy: 0.800000, val accuracy: 0.140000\n",
      "Loss: inf, Train accuracy: 0.830000, val accuracy: 0.210000\n",
      "Loss: inf, Train accuracy: 0.670000, val accuracy: 0.150000\n",
      "Loss: inf, Train accuracy: 0.600000, val accuracy: 0.170000\n",
      "Loss: inf, Train accuracy: 0.570000, val accuracy: 0.200000\n",
      "Loss: inf, Train accuracy: 0.630000, val accuracy: 0.200000\n",
      "Loss: inf, Train accuracy: 0.640000, val accuracy: 0.170000\n",
      "Loss: inf, Train accuracy: 0.660000, val accuracy: 0.150000\n",
      "Loss: inf, Train accuracy: 0.680000, val accuracy: 0.140000\n",
      "Loss: inf, Train accuracy: 0.690000, val accuracy: 0.180000\n",
      "Loss: inf, Train accuracy: 0.540000, val accuracy: 0.220000\n",
      "Loss: 32394.011922, Train accuracy: 0.720000, val accuracy: 0.190000\n",
      "Loss: 36665.571182, Train accuracy: 0.480000, val accuracy: 0.190000\n",
      "Loss: inf, Train accuracy: 0.640000, val accuracy: 0.160000\n",
      "Loss: inf, Train accuracy: 0.540000, val accuracy: 0.190000\n"
     ]
    }
   ],
   "source": [
    "# Let's train the best one-hidden-layer network we can\n",
    "\n",
    "learning_rates = 0.01\n",
    "reg_strength = 1e-3\n",
    "learning_rate_decay = 0.999\n",
    "hidden_layer_size = 128\n",
    "num_epochs = 200\n",
    "batch_size = 256\n",
    "\n",
    "best_classifier = None\n",
    "best_val_accuracy = None\n",
    "\n",
    "loss_history = []\n",
    "train_history = []\n",
    "val_history = []\n",
    "\n",
    "# TODO find the best hyperparameters to train the network\n",
    "# Don't hesitate to add new values to the arrays above, perform experiments, use any tricks you want\n",
    "# You should expect to get to at least 40% of valudation accuracy\n",
    "# Save loss/train/history of the best classifier to the variables above\n",
    "\n",
    "model = TwoLayerNet(n_input = train_X.shape[1], n_output = 10, hidden_layer_size = hidden_layer_size, reg = reg_strength)\n",
    "dataset = Dataset(train_X[:100], train_y[:100], val_X[:100], val_y[:100])\n",
    "trainer = Trainer(model, dataset, MomentumSGD(), learning_rate=learning_rates, learning_rate_decay= learning_rate_decay, num_epochs=100, batch_size=2)\n",
    "\n",
    "loss_history, train_history, val_history = trainer.fit()\n",
    "\n",
    "#print('best validation accuracy achieved: %f' % best_val_accuracy)"
   ]
  },
  {
   "cell_type": "code",
   "execution_count": null,
   "metadata": {},
   "outputs": [],
   "source": [
    "plt.figure(figsize=(15, 7))\n",
    "plt.subplot(211)\n",
    "plt.title(\"Loss\")\n",
    "plt.plot(loss_history)\n",
    "plt.subplot(212)\n",
    "plt.title(\"Train/validation accuracy\")\n",
    "plt.plot(train_history)\n",
    "plt.plot(val_history)"
   ]
  },
  {
   "cell_type": "markdown",
   "metadata": {},
   "source": [
    "# Как обычно, посмотрим, как наша лучшая модель работает на тестовых данных"
   ]
  },
  {
   "cell_type": "code",
   "execution_count": null,
   "metadata": {},
   "outputs": [],
   "source": [
    "test_pred = best_classifier.predict(test_X)\n",
    "test_accuracy = multiclass_accuracy(test_pred, test_y)\n",
    "print('Neural net test set accuracy: %f' % (test_accuracy, ))"
   ]
  }
 ],
 "metadata": {
  "kernelspec": {
   "display_name": "Python 3",
   "language": "python",
   "name": "python3"
  },
  "language_info": {
   "codemirror_mode": {
    "name": "ipython",
    "version": 3
   },
   "file_extension": ".py",
   "mimetype": "text/x-python",
   "name": "python",
   "nbconvert_exporter": "python",
   "pygments_lexer": "ipython3",
   "version": "3.7.6"
  }
 },
 "nbformat": 4,
 "nbformat_minor": 2
}
